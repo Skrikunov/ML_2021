{
  "nbformat": 4,
  "nbformat_minor": 0,
  "metadata": {
    "accelerator": "GPU",
    "colab": {
      "name": "Stanislav_Krikunov_hw2_p2.ipynb",
      "provenance": [],
      "collapsed_sections": [],
      "toc_visible": true
    },
    "kernelspec": {
      "display_name": "Python 3",
      "language": "python",
      "name": "python3"
    },
    "language_info": {
      "codemirror_mode": {
        "name": "ipython",
        "version": 3
      },
      "file_extension": ".py",
      "mimetype": "text/x-python",
      "name": "python",
      "nbconvert_exporter": "python",
      "pygments_lexer": "ipython3",
      "version": "3.8.5"
    },
    "widgets": {
      "application/vnd.jupyter.widget-state+json": {
        "fb99a55bc8044480a28ed3d6d5499f1d": {
          "model_module": "@jupyter-widgets/controls",
          "model_name": "HBoxModel",
          "state": {
            "_view_name": "HBoxView",
            "_dom_classes": [],
            "_model_name": "HBoxModel",
            "_view_module": "@jupyter-widgets/controls",
            "_model_module_version": "1.5.0",
            "_view_count": null,
            "_view_module_version": "1.5.0",
            "box_style": "",
            "layout": "IPY_MODEL_41bdce729562496fb7a124dd11a7e9bb",
            "_model_module": "@jupyter-widgets/controls",
            "children": [
              "IPY_MODEL_e1864a4e34744789b404dd310944ad82",
              "IPY_MODEL_57bc2fd9619a4e1d8322b595f8c17676"
            ]
          }
        },
        "41bdce729562496fb7a124dd11a7e9bb": {
          "model_module": "@jupyter-widgets/base",
          "model_name": "LayoutModel",
          "state": {
            "_view_name": "LayoutView",
            "grid_template_rows": null,
            "right": null,
            "justify_content": null,
            "_view_module": "@jupyter-widgets/base",
            "overflow": null,
            "_model_module_version": "1.2.0",
            "_view_count": null,
            "flex_flow": null,
            "width": null,
            "min_width": null,
            "border": null,
            "align_items": null,
            "bottom": null,
            "_model_module": "@jupyter-widgets/base",
            "top": null,
            "grid_column": null,
            "overflow_y": null,
            "overflow_x": null,
            "grid_auto_flow": null,
            "grid_area": null,
            "grid_template_columns": null,
            "flex": null,
            "_model_name": "LayoutModel",
            "justify_items": null,
            "grid_row": null,
            "max_height": null,
            "align_content": null,
            "visibility": null,
            "align_self": null,
            "height": null,
            "min_height": null,
            "padding": null,
            "grid_auto_rows": null,
            "grid_gap": null,
            "max_width": null,
            "order": null,
            "_view_module_version": "1.2.0",
            "grid_template_areas": null,
            "object_position": null,
            "object_fit": null,
            "grid_auto_columns": null,
            "margin": null,
            "display": null,
            "left": null
          }
        },
        "e1864a4e34744789b404dd310944ad82": {
          "model_module": "@jupyter-widgets/controls",
          "model_name": "FloatProgressModel",
          "state": {
            "_view_name": "ProgressView",
            "style": "IPY_MODEL_1f842cca914e4bfcbd3af811b500afe4",
            "_dom_classes": [],
            "description": "",
            "_model_name": "FloatProgressModel",
            "bar_style": "success",
            "max": 18165135,
            "_view_module": "@jupyter-widgets/controls",
            "_model_module_version": "1.5.0",
            "value": 18165135,
            "_view_count": null,
            "_view_module_version": "1.5.0",
            "orientation": "horizontal",
            "min": 0,
            "description_tooltip": null,
            "_model_module": "@jupyter-widgets/controls",
            "layout": "IPY_MODEL_0f06130fc05242329a4c890e748c6629"
          }
        },
        "57bc2fd9619a4e1d8322b595f8c17676": {
          "model_module": "@jupyter-widgets/controls",
          "model_name": "HTMLModel",
          "state": {
            "_view_name": "HTMLView",
            "style": "IPY_MODEL_eae24c5b81544b70a4909767567d2f4f",
            "_dom_classes": [],
            "description": "",
            "_model_name": "HTMLModel",
            "placeholder": "​",
            "_view_module": "@jupyter-widgets/controls",
            "_model_module_version": "1.5.0",
            "value": " 18165760/? [00:08&lt;00:00, 2124565.17it/s]",
            "_view_count": null,
            "_view_module_version": "1.5.0",
            "description_tooltip": null,
            "_model_module": "@jupyter-widgets/controls",
            "layout": "IPY_MODEL_3b1b918734f3481790d17997a5dc3598"
          }
        },
        "1f842cca914e4bfcbd3af811b500afe4": {
          "model_module": "@jupyter-widgets/controls",
          "model_name": "ProgressStyleModel",
          "state": {
            "_view_name": "StyleView",
            "_model_name": "ProgressStyleModel",
            "description_width": "initial",
            "_view_module": "@jupyter-widgets/base",
            "_model_module_version": "1.5.0",
            "_view_count": null,
            "_view_module_version": "1.2.0",
            "bar_color": null,
            "_model_module": "@jupyter-widgets/controls"
          }
        },
        "0f06130fc05242329a4c890e748c6629": {
          "model_module": "@jupyter-widgets/base",
          "model_name": "LayoutModel",
          "state": {
            "_view_name": "LayoutView",
            "grid_template_rows": null,
            "right": null,
            "justify_content": null,
            "_view_module": "@jupyter-widgets/base",
            "overflow": null,
            "_model_module_version": "1.2.0",
            "_view_count": null,
            "flex_flow": null,
            "width": null,
            "min_width": null,
            "border": null,
            "align_items": null,
            "bottom": null,
            "_model_module": "@jupyter-widgets/base",
            "top": null,
            "grid_column": null,
            "overflow_y": null,
            "overflow_x": null,
            "grid_auto_flow": null,
            "grid_area": null,
            "grid_template_columns": null,
            "flex": null,
            "_model_name": "LayoutModel",
            "justify_items": null,
            "grid_row": null,
            "max_height": null,
            "align_content": null,
            "visibility": null,
            "align_self": null,
            "height": null,
            "min_height": null,
            "padding": null,
            "grid_auto_rows": null,
            "grid_gap": null,
            "max_width": null,
            "order": null,
            "_view_module_version": "1.2.0",
            "grid_template_areas": null,
            "object_position": null,
            "object_fit": null,
            "grid_auto_columns": null,
            "margin": null,
            "display": null,
            "left": null
          }
        },
        "eae24c5b81544b70a4909767567d2f4f": {
          "model_module": "@jupyter-widgets/controls",
          "model_name": "DescriptionStyleModel",
          "state": {
            "_view_name": "StyleView",
            "_model_name": "DescriptionStyleModel",
            "description_width": "",
            "_view_module": "@jupyter-widgets/base",
            "_model_module_version": "1.5.0",
            "_view_count": null,
            "_view_module_version": "1.2.0",
            "_model_module": "@jupyter-widgets/controls"
          }
        },
        "3b1b918734f3481790d17997a5dc3598": {
          "model_module": "@jupyter-widgets/base",
          "model_name": "LayoutModel",
          "state": {
            "_view_name": "LayoutView",
            "grid_template_rows": null,
            "right": null,
            "justify_content": null,
            "_view_module": "@jupyter-widgets/base",
            "overflow": null,
            "_model_module_version": "1.2.0",
            "_view_count": null,
            "flex_flow": null,
            "width": null,
            "min_width": null,
            "border": null,
            "align_items": null,
            "bottom": null,
            "_model_module": "@jupyter-widgets/base",
            "top": null,
            "grid_column": null,
            "overflow_y": null,
            "overflow_x": null,
            "grid_auto_flow": null,
            "grid_area": null,
            "grid_template_columns": null,
            "flex": null,
            "_model_name": "LayoutModel",
            "justify_items": null,
            "grid_row": null,
            "max_height": null,
            "align_content": null,
            "visibility": null,
            "align_self": null,
            "height": null,
            "min_height": null,
            "padding": null,
            "grid_auto_rows": null,
            "grid_gap": null,
            "max_width": null,
            "order": null,
            "_view_module_version": "1.2.0",
            "grid_template_areas": null,
            "object_position": null,
            "object_fit": null,
            "grid_auto_columns": null,
            "margin": null,
            "display": null,
            "left": null
          }
        },
        "ca0bb878c3de4652a8cc72e47d7f67a4": {
          "model_module": "@jupyter-widgets/controls",
          "model_name": "HBoxModel",
          "state": {
            "_view_name": "HBoxView",
            "_dom_classes": [],
            "_model_name": "HBoxModel",
            "_view_module": "@jupyter-widgets/controls",
            "_model_module_version": "1.5.0",
            "_view_count": null,
            "_view_module_version": "1.5.0",
            "box_style": "",
            "layout": "IPY_MODEL_c3aa714076d4458c9b77e9f681b1e577",
            "_model_module": "@jupyter-widgets/controls",
            "children": [
              "IPY_MODEL_5fa70b0498544ba0a6711c2c9a6bfb9d",
              "IPY_MODEL_d6b4c102f8b848c4a8908a632228b9fc"
            ]
          }
        },
        "c3aa714076d4458c9b77e9f681b1e577": {
          "model_module": "@jupyter-widgets/base",
          "model_name": "LayoutModel",
          "state": {
            "_view_name": "LayoutView",
            "grid_template_rows": null,
            "right": null,
            "justify_content": null,
            "_view_module": "@jupyter-widgets/base",
            "overflow": null,
            "_model_module_version": "1.2.0",
            "_view_count": null,
            "flex_flow": null,
            "width": null,
            "min_width": null,
            "border": null,
            "align_items": null,
            "bottom": null,
            "_model_module": "@jupyter-widgets/base",
            "top": null,
            "grid_column": null,
            "overflow_y": null,
            "overflow_x": null,
            "grid_auto_flow": null,
            "grid_area": null,
            "grid_template_columns": null,
            "flex": null,
            "_model_name": "LayoutModel",
            "justify_items": null,
            "grid_row": null,
            "max_height": null,
            "align_content": null,
            "visibility": null,
            "align_self": null,
            "height": null,
            "min_height": null,
            "padding": null,
            "grid_auto_rows": null,
            "grid_gap": null,
            "max_width": null,
            "order": null,
            "_view_module_version": "1.2.0",
            "grid_template_areas": null,
            "object_position": null,
            "object_fit": null,
            "grid_auto_columns": null,
            "margin": null,
            "display": null,
            "left": null
          }
        },
        "5fa70b0498544ba0a6711c2c9a6bfb9d": {
          "model_module": "@jupyter-widgets/controls",
          "model_name": "FloatProgressModel",
          "state": {
            "_view_name": "ProgressView",
            "style": "IPY_MODEL_19e7717e4c0140888152dd04a63addcc",
            "_dom_classes": [],
            "description": "",
            "_model_name": "FloatProgressModel",
            "bar_style": "success",
            "max": 29497,
            "_view_module": "@jupyter-widgets/controls",
            "_model_module_version": "1.5.0",
            "value": 29497,
            "_view_count": null,
            "_view_module_version": "1.5.0",
            "orientation": "horizontal",
            "min": 0,
            "description_tooltip": null,
            "_model_module": "@jupyter-widgets/controls",
            "layout": "IPY_MODEL_445d896b5e274eb3b642501e3000503e"
          }
        },
        "d6b4c102f8b848c4a8908a632228b9fc": {
          "model_module": "@jupyter-widgets/controls",
          "model_name": "HTMLModel",
          "state": {
            "_view_name": "HTMLView",
            "style": "IPY_MODEL_de93a562ae77462dbb0a42839e51351a",
            "_dom_classes": [],
            "description": "",
            "_model_name": "HTMLModel",
            "placeholder": "​",
            "_view_module": "@jupyter-widgets/controls",
            "_model_module_version": "1.5.0",
            "value": " 29696/? [00:02&lt;00:00, 10671.49it/s]",
            "_view_count": null,
            "_view_module_version": "1.5.0",
            "description_tooltip": null,
            "_model_module": "@jupyter-widgets/controls",
            "layout": "IPY_MODEL_8fd3968c28c840dda0de99c91ec48649"
          }
        },
        "19e7717e4c0140888152dd04a63addcc": {
          "model_module": "@jupyter-widgets/controls",
          "model_name": "ProgressStyleModel",
          "state": {
            "_view_name": "StyleView",
            "_model_name": "ProgressStyleModel",
            "description_width": "initial",
            "_view_module": "@jupyter-widgets/base",
            "_model_module_version": "1.5.0",
            "_view_count": null,
            "_view_module_version": "1.2.0",
            "bar_color": null,
            "_model_module": "@jupyter-widgets/controls"
          }
        },
        "445d896b5e274eb3b642501e3000503e": {
          "model_module": "@jupyter-widgets/base",
          "model_name": "LayoutModel",
          "state": {
            "_view_name": "LayoutView",
            "grid_template_rows": null,
            "right": null,
            "justify_content": null,
            "_view_module": "@jupyter-widgets/base",
            "overflow": null,
            "_model_module_version": "1.2.0",
            "_view_count": null,
            "flex_flow": null,
            "width": null,
            "min_width": null,
            "border": null,
            "align_items": null,
            "bottom": null,
            "_model_module": "@jupyter-widgets/base",
            "top": null,
            "grid_column": null,
            "overflow_y": null,
            "overflow_x": null,
            "grid_auto_flow": null,
            "grid_area": null,
            "grid_template_columns": null,
            "flex": null,
            "_model_name": "LayoutModel",
            "justify_items": null,
            "grid_row": null,
            "max_height": null,
            "align_content": null,
            "visibility": null,
            "align_self": null,
            "height": null,
            "min_height": null,
            "padding": null,
            "grid_auto_rows": null,
            "grid_gap": null,
            "max_width": null,
            "order": null,
            "_view_module_version": "1.2.0",
            "grid_template_areas": null,
            "object_position": null,
            "object_fit": null,
            "grid_auto_columns": null,
            "margin": null,
            "display": null,
            "left": null
          }
        },
        "de93a562ae77462dbb0a42839e51351a": {
          "model_module": "@jupyter-widgets/controls",
          "model_name": "DescriptionStyleModel",
          "state": {
            "_view_name": "StyleView",
            "_model_name": "DescriptionStyleModel",
            "description_width": "",
            "_view_module": "@jupyter-widgets/base",
            "_model_module_version": "1.5.0",
            "_view_count": null,
            "_view_module_version": "1.2.0",
            "_model_module": "@jupyter-widgets/controls"
          }
        },
        "8fd3968c28c840dda0de99c91ec48649": {
          "model_module": "@jupyter-widgets/base",
          "model_name": "LayoutModel",
          "state": {
            "_view_name": "LayoutView",
            "grid_template_rows": null,
            "right": null,
            "justify_content": null,
            "_view_module": "@jupyter-widgets/base",
            "overflow": null,
            "_model_module_version": "1.2.0",
            "_view_count": null,
            "flex_flow": null,
            "width": null,
            "min_width": null,
            "border": null,
            "align_items": null,
            "bottom": null,
            "_model_module": "@jupyter-widgets/base",
            "top": null,
            "grid_column": null,
            "overflow_y": null,
            "overflow_x": null,
            "grid_auto_flow": null,
            "grid_area": null,
            "grid_template_columns": null,
            "flex": null,
            "_model_name": "LayoutModel",
            "justify_items": null,
            "grid_row": null,
            "max_height": null,
            "align_content": null,
            "visibility": null,
            "align_self": null,
            "height": null,
            "min_height": null,
            "padding": null,
            "grid_auto_rows": null,
            "grid_gap": null,
            "max_width": null,
            "order": null,
            "_view_module_version": "1.2.0",
            "grid_template_areas": null,
            "object_position": null,
            "object_fit": null,
            "grid_auto_columns": null,
            "margin": null,
            "display": null,
            "left": null
          }
        },
        "728474f685ca4487b9ffab6435460b4d": {
          "model_module": "@jupyter-widgets/controls",
          "model_name": "HBoxModel",
          "state": {
            "_view_name": "HBoxView",
            "_dom_classes": [],
            "_model_name": "HBoxModel",
            "_view_module": "@jupyter-widgets/controls",
            "_model_module_version": "1.5.0",
            "_view_count": null,
            "_view_module_version": "1.5.0",
            "box_style": "",
            "layout": "IPY_MODEL_0587dfa2a60c497c92eef74f0f92d2e0",
            "_model_module": "@jupyter-widgets/controls",
            "children": [
              "IPY_MODEL_54d1980f7a4b4e31856464b238bbfa4a",
              "IPY_MODEL_06f6e37be61e4f30be414d0682a74b81"
            ]
          }
        },
        "0587dfa2a60c497c92eef74f0f92d2e0": {
          "model_module": "@jupyter-widgets/base",
          "model_name": "LayoutModel",
          "state": {
            "_view_name": "LayoutView",
            "grid_template_rows": null,
            "right": null,
            "justify_content": null,
            "_view_module": "@jupyter-widgets/base",
            "overflow": null,
            "_model_module_version": "1.2.0",
            "_view_count": null,
            "flex_flow": null,
            "width": null,
            "min_width": null,
            "border": null,
            "align_items": null,
            "bottom": null,
            "_model_module": "@jupyter-widgets/base",
            "top": null,
            "grid_column": null,
            "overflow_y": null,
            "overflow_x": null,
            "grid_auto_flow": null,
            "grid_area": null,
            "grid_template_columns": null,
            "flex": null,
            "_model_name": "LayoutModel",
            "justify_items": null,
            "grid_row": null,
            "max_height": null,
            "align_content": null,
            "visibility": null,
            "align_self": null,
            "height": null,
            "min_height": null,
            "padding": null,
            "grid_auto_rows": null,
            "grid_gap": null,
            "max_width": null,
            "order": null,
            "_view_module_version": "1.2.0",
            "grid_template_areas": null,
            "object_position": null,
            "object_fit": null,
            "grid_auto_columns": null,
            "margin": null,
            "display": null,
            "left": null
          }
        },
        "54d1980f7a4b4e31856464b238bbfa4a": {
          "model_module": "@jupyter-widgets/controls",
          "model_name": "FloatProgressModel",
          "state": {
            "_view_name": "ProgressView",
            "style": "IPY_MODEL_e5ac7de89f8a44569816b1b31a576ee8",
            "_dom_classes": [],
            "description": "",
            "_model_name": "FloatProgressModel",
            "bar_style": "success",
            "max": 3041136,
            "_view_module": "@jupyter-widgets/controls",
            "_model_module_version": "1.5.0",
            "value": 3041136,
            "_view_count": null,
            "_view_module_version": "1.5.0",
            "orientation": "horizontal",
            "min": 0,
            "description_tooltip": null,
            "_model_module": "@jupyter-widgets/controls",
            "layout": "IPY_MODEL_31cc40fd8fbb48e19080e789365d6ac4"
          }
        },
        "06f6e37be61e4f30be414d0682a74b81": {
          "model_module": "@jupyter-widgets/controls",
          "model_name": "HTMLModel",
          "state": {
            "_view_name": "HTMLView",
            "style": "IPY_MODEL_c50b0fbbc60545ca9a053e641834ef19",
            "_dom_classes": [],
            "description": "",
            "_model_name": "HTMLModel",
            "placeholder": "​",
            "_view_module": "@jupyter-widgets/controls",
            "_model_module_version": "1.5.0",
            "value": " 3041280/? [00:01&lt;00:00, 2560006.24it/s]",
            "_view_count": null,
            "_view_module_version": "1.5.0",
            "description_tooltip": null,
            "_model_module": "@jupyter-widgets/controls",
            "layout": "IPY_MODEL_972f6b44a9594804bc45c2f255d6e622"
          }
        },
        "e5ac7de89f8a44569816b1b31a576ee8": {
          "model_module": "@jupyter-widgets/controls",
          "model_name": "ProgressStyleModel",
          "state": {
            "_view_name": "StyleView",
            "_model_name": "ProgressStyleModel",
            "description_width": "initial",
            "_view_module": "@jupyter-widgets/base",
            "_model_module_version": "1.5.0",
            "_view_count": null,
            "_view_module_version": "1.2.0",
            "bar_color": null,
            "_model_module": "@jupyter-widgets/controls"
          }
        },
        "31cc40fd8fbb48e19080e789365d6ac4": {
          "model_module": "@jupyter-widgets/base",
          "model_name": "LayoutModel",
          "state": {
            "_view_name": "LayoutView",
            "grid_template_rows": null,
            "right": null,
            "justify_content": null,
            "_view_module": "@jupyter-widgets/base",
            "overflow": null,
            "_model_module_version": "1.2.0",
            "_view_count": null,
            "flex_flow": null,
            "width": null,
            "min_width": null,
            "border": null,
            "align_items": null,
            "bottom": null,
            "_model_module": "@jupyter-widgets/base",
            "top": null,
            "grid_column": null,
            "overflow_y": null,
            "overflow_x": null,
            "grid_auto_flow": null,
            "grid_area": null,
            "grid_template_columns": null,
            "flex": null,
            "_model_name": "LayoutModel",
            "justify_items": null,
            "grid_row": null,
            "max_height": null,
            "align_content": null,
            "visibility": null,
            "align_self": null,
            "height": null,
            "min_height": null,
            "padding": null,
            "grid_auto_rows": null,
            "grid_gap": null,
            "max_width": null,
            "order": null,
            "_view_module_version": "1.2.0",
            "grid_template_areas": null,
            "object_position": null,
            "object_fit": null,
            "grid_auto_columns": null,
            "margin": null,
            "display": null,
            "left": null
          }
        },
        "c50b0fbbc60545ca9a053e641834ef19": {
          "model_module": "@jupyter-widgets/controls",
          "model_name": "DescriptionStyleModel",
          "state": {
            "_view_name": "StyleView",
            "_model_name": "DescriptionStyleModel",
            "description_width": "",
            "_view_module": "@jupyter-widgets/base",
            "_model_module_version": "1.5.0",
            "_view_count": null,
            "_view_module_version": "1.2.0",
            "_model_module": "@jupyter-widgets/controls"
          }
        },
        "972f6b44a9594804bc45c2f255d6e622": {
          "model_module": "@jupyter-widgets/base",
          "model_name": "LayoutModel",
          "state": {
            "_view_name": "LayoutView",
            "grid_template_rows": null,
            "right": null,
            "justify_content": null,
            "_view_module": "@jupyter-widgets/base",
            "overflow": null,
            "_model_module_version": "1.2.0",
            "_view_count": null,
            "flex_flow": null,
            "width": null,
            "min_width": null,
            "border": null,
            "align_items": null,
            "bottom": null,
            "_model_module": "@jupyter-widgets/base",
            "top": null,
            "grid_column": null,
            "overflow_y": null,
            "overflow_x": null,
            "grid_auto_flow": null,
            "grid_area": null,
            "grid_template_columns": null,
            "flex": null,
            "_model_name": "LayoutModel",
            "justify_items": null,
            "grid_row": null,
            "max_height": null,
            "align_content": null,
            "visibility": null,
            "align_self": null,
            "height": null,
            "min_height": null,
            "padding": null,
            "grid_auto_rows": null,
            "grid_gap": null,
            "max_width": null,
            "order": null,
            "_view_module_version": "1.2.0",
            "grid_template_areas": null,
            "object_position": null,
            "object_fit": null,
            "grid_auto_columns": null,
            "margin": null,
            "display": null,
            "left": null
          }
        },
        "657ff1d84a324deda21fec6dc48f8b2e": {
          "model_module": "@jupyter-widgets/controls",
          "model_name": "HBoxModel",
          "state": {
            "_view_name": "HBoxView",
            "_dom_classes": [],
            "_model_name": "HBoxModel",
            "_view_module": "@jupyter-widgets/controls",
            "_model_module_version": "1.5.0",
            "_view_count": null,
            "_view_module_version": "1.5.0",
            "box_style": "",
            "layout": "IPY_MODEL_43e6ef7d39394a9ca0226e0781b2f081",
            "_model_module": "@jupyter-widgets/controls",
            "children": [
              "IPY_MODEL_4c650eb638fa4a6b96375a1ddfbd1036",
              "IPY_MODEL_92937d81388343a6ac4699bc74283e2e"
            ]
          }
        },
        "43e6ef7d39394a9ca0226e0781b2f081": {
          "model_module": "@jupyter-widgets/base",
          "model_name": "LayoutModel",
          "state": {
            "_view_name": "LayoutView",
            "grid_template_rows": null,
            "right": null,
            "justify_content": null,
            "_view_module": "@jupyter-widgets/base",
            "overflow": null,
            "_model_module_version": "1.2.0",
            "_view_count": null,
            "flex_flow": null,
            "width": null,
            "min_width": null,
            "border": null,
            "align_items": null,
            "bottom": null,
            "_model_module": "@jupyter-widgets/base",
            "top": null,
            "grid_column": null,
            "overflow_y": null,
            "overflow_x": null,
            "grid_auto_flow": null,
            "grid_area": null,
            "grid_template_columns": null,
            "flex": null,
            "_model_name": "LayoutModel",
            "justify_items": null,
            "grid_row": null,
            "max_height": null,
            "align_content": null,
            "visibility": null,
            "align_self": null,
            "height": null,
            "min_height": null,
            "padding": null,
            "grid_auto_rows": null,
            "grid_gap": null,
            "max_width": null,
            "order": null,
            "_view_module_version": "1.2.0",
            "grid_template_areas": null,
            "object_position": null,
            "object_fit": null,
            "grid_auto_columns": null,
            "margin": null,
            "display": null,
            "left": null
          }
        },
        "4c650eb638fa4a6b96375a1ddfbd1036": {
          "model_module": "@jupyter-widgets/controls",
          "model_name": "FloatProgressModel",
          "state": {
            "_view_name": "ProgressView",
            "style": "IPY_MODEL_ebcdc10f6ad147c98178c6616369cd7a",
            "_dom_classes": [],
            "description": "100%",
            "_model_name": "FloatProgressModel",
            "bar_style": "success",
            "max": 5120,
            "_view_module": "@jupyter-widgets/controls",
            "_model_module_version": "1.5.0",
            "value": 5120,
            "_view_count": null,
            "_view_module_version": "1.5.0",
            "orientation": "horizontal",
            "min": 0,
            "description_tooltip": null,
            "_model_module": "@jupyter-widgets/controls",
            "layout": "IPY_MODEL_b20f382d46ab4d5187e00cd25d744831"
          }
        },
        "92937d81388343a6ac4699bc74283e2e": {
          "model_module": "@jupyter-widgets/controls",
          "model_name": "HTMLModel",
          "state": {
            "_view_name": "HTMLView",
            "style": "IPY_MODEL_9f2f27824f07461896510bcb6ec58593",
            "_dom_classes": [],
            "description": "",
            "_model_name": "HTMLModel",
            "placeholder": "​",
            "_view_module": "@jupyter-widgets/controls",
            "_model_module_version": "1.5.0",
            "value": " 5120/5120 [00:00&lt;00:00, 15343.89it/s]",
            "_view_count": null,
            "_view_module_version": "1.5.0",
            "description_tooltip": null,
            "_model_module": "@jupyter-widgets/controls",
            "layout": "IPY_MODEL_04477fa8dde648adaa0023c3a88de157"
          }
        },
        "ebcdc10f6ad147c98178c6616369cd7a": {
          "model_module": "@jupyter-widgets/controls",
          "model_name": "ProgressStyleModel",
          "state": {
            "_view_name": "StyleView",
            "_model_name": "ProgressStyleModel",
            "description_width": "initial",
            "_view_module": "@jupyter-widgets/base",
            "_model_module_version": "1.5.0",
            "_view_count": null,
            "_view_module_version": "1.2.0",
            "bar_color": null,
            "_model_module": "@jupyter-widgets/controls"
          }
        },
        "b20f382d46ab4d5187e00cd25d744831": {
          "model_module": "@jupyter-widgets/base",
          "model_name": "LayoutModel",
          "state": {
            "_view_name": "LayoutView",
            "grid_template_rows": null,
            "right": null,
            "justify_content": null,
            "_view_module": "@jupyter-widgets/base",
            "overflow": null,
            "_model_module_version": "1.2.0",
            "_view_count": null,
            "flex_flow": null,
            "width": null,
            "min_width": null,
            "border": null,
            "align_items": null,
            "bottom": null,
            "_model_module": "@jupyter-widgets/base",
            "top": null,
            "grid_column": null,
            "overflow_y": null,
            "overflow_x": null,
            "grid_auto_flow": null,
            "grid_area": null,
            "grid_template_columns": null,
            "flex": null,
            "_model_name": "LayoutModel",
            "justify_items": null,
            "grid_row": null,
            "max_height": null,
            "align_content": null,
            "visibility": null,
            "align_self": null,
            "height": null,
            "min_height": null,
            "padding": null,
            "grid_auto_rows": null,
            "grid_gap": null,
            "max_width": null,
            "order": null,
            "_view_module_version": "1.2.0",
            "grid_template_areas": null,
            "object_position": null,
            "object_fit": null,
            "grid_auto_columns": null,
            "margin": null,
            "display": null,
            "left": null
          }
        },
        "9f2f27824f07461896510bcb6ec58593": {
          "model_module": "@jupyter-widgets/controls",
          "model_name": "DescriptionStyleModel",
          "state": {
            "_view_name": "StyleView",
            "_model_name": "DescriptionStyleModel",
            "description_width": "",
            "_view_module": "@jupyter-widgets/base",
            "_model_module_version": "1.5.0",
            "_view_count": null,
            "_view_module_version": "1.2.0",
            "_model_module": "@jupyter-widgets/controls"
          }
        },
        "04477fa8dde648adaa0023c3a88de157": {
          "model_module": "@jupyter-widgets/base",
          "model_name": "LayoutModel",
          "state": {
            "_view_name": "LayoutView",
            "grid_template_rows": null,
            "right": null,
            "justify_content": null,
            "_view_module": "@jupyter-widgets/base",
            "overflow": null,
            "_model_module_version": "1.2.0",
            "_view_count": null,
            "flex_flow": null,
            "width": null,
            "min_width": null,
            "border": null,
            "align_items": null,
            "bottom": null,
            "_model_module": "@jupyter-widgets/base",
            "top": null,
            "grid_column": null,
            "overflow_y": null,
            "overflow_x": null,
            "grid_auto_flow": null,
            "grid_area": null,
            "grid_template_columns": null,
            "flex": null,
            "_model_name": "LayoutModel",
            "justify_items": null,
            "grid_row": null,
            "max_height": null,
            "align_content": null,
            "visibility": null,
            "align_self": null,
            "height": null,
            "min_height": null,
            "padding": null,
            "grid_auto_rows": null,
            "grid_gap": null,
            "max_width": null,
            "order": null,
            "_view_module_version": "1.2.0",
            "grid_template_areas": null,
            "object_position": null,
            "object_fit": null,
            "grid_auto_columns": null,
            "margin": null,
            "display": null,
            "left": null
          }
        },
        "348e7aab8be8437a8f02e236fe386bb7": {
          "model_module": "@jupyter-widgets/controls",
          "model_name": "HBoxModel",
          "state": {
            "_view_name": "HBoxView",
            "_dom_classes": [],
            "_model_name": "HBoxModel",
            "_view_module": "@jupyter-widgets/controls",
            "_model_module_version": "1.5.0",
            "_view_count": null,
            "_view_module_version": "1.5.0",
            "box_style": "",
            "layout": "IPY_MODEL_0e285236517541b1813acb29d4e018fe",
            "_model_module": "@jupyter-widgets/controls",
            "children": [
              "IPY_MODEL_ab6a4f505864403ebaf15448a8c5a68f",
              "IPY_MODEL_77ce8fce569743ea95b5b6c30ea70478"
            ]
          }
        },
        "0e285236517541b1813acb29d4e018fe": {
          "model_module": "@jupyter-widgets/base",
          "model_name": "LayoutModel",
          "state": {
            "_view_name": "LayoutView",
            "grid_template_rows": null,
            "right": null,
            "justify_content": null,
            "_view_module": "@jupyter-widgets/base",
            "overflow": null,
            "_model_module_version": "1.2.0",
            "_view_count": null,
            "flex_flow": null,
            "width": null,
            "min_width": null,
            "border": null,
            "align_items": null,
            "bottom": null,
            "_model_module": "@jupyter-widgets/base",
            "top": null,
            "grid_column": null,
            "overflow_y": null,
            "overflow_x": null,
            "grid_auto_flow": null,
            "grid_area": null,
            "grid_template_columns": null,
            "flex": null,
            "_model_name": "LayoutModel",
            "justify_items": null,
            "grid_row": null,
            "max_height": null,
            "align_content": null,
            "visibility": null,
            "align_self": null,
            "height": null,
            "min_height": null,
            "padding": null,
            "grid_auto_rows": null,
            "grid_gap": null,
            "max_width": null,
            "order": null,
            "_view_module_version": "1.2.0",
            "grid_template_areas": null,
            "object_position": null,
            "object_fit": null,
            "grid_auto_columns": null,
            "margin": null,
            "display": null,
            "left": null
          }
        },
        "ab6a4f505864403ebaf15448a8c5a68f": {
          "model_module": "@jupyter-widgets/controls",
          "model_name": "FloatProgressModel",
          "state": {
            "_view_name": "ProgressView",
            "style": "IPY_MODEL_495949ca97614c1c83a4973ec99e4c14",
            "_dom_classes": [],
            "description": "100%",
            "_model_name": "FloatProgressModel",
            "bar_style": "success",
            "max": 2428923189,
            "_view_module": "@jupyter-widgets/controls",
            "_model_module_version": "1.5.0",
            "value": 2428923189,
            "_view_count": null,
            "_view_module_version": "1.5.0",
            "orientation": "horizontal",
            "min": 0,
            "description_tooltip": null,
            "_model_module": "@jupyter-widgets/controls",
            "layout": "IPY_MODEL_8c4693e1690a48e79d3d6ae9ee9d503a"
          }
        },
        "77ce8fce569743ea95b5b6c30ea70478": {
          "model_module": "@jupyter-widgets/controls",
          "model_name": "HTMLModel",
          "state": {
            "_view_name": "HTMLView",
            "style": "IPY_MODEL_85d54a2de986459394874ca489605405",
            "_dom_classes": [],
            "description": "",
            "_model_name": "HTMLModel",
            "placeholder": "​",
            "_view_module": "@jupyter-widgets/controls",
            "_model_module_version": "1.5.0",
            "value": " 2.26G/2.26G [00:34&lt;00:00, 70.7MB/s]",
            "_view_count": null,
            "_view_module_version": "1.5.0",
            "description_tooltip": null,
            "_model_module": "@jupyter-widgets/controls",
            "layout": "IPY_MODEL_58930013cf44407eac1477031768585a"
          }
        },
        "495949ca97614c1c83a4973ec99e4c14": {
          "model_module": "@jupyter-widgets/controls",
          "model_name": "ProgressStyleModel",
          "state": {
            "_view_name": "StyleView",
            "_model_name": "ProgressStyleModel",
            "description_width": "initial",
            "_view_module": "@jupyter-widgets/base",
            "_model_module_version": "1.5.0",
            "_view_count": null,
            "_view_module_version": "1.2.0",
            "bar_color": null,
            "_model_module": "@jupyter-widgets/controls"
          }
        },
        "8c4693e1690a48e79d3d6ae9ee9d503a": {
          "model_module": "@jupyter-widgets/base",
          "model_name": "LayoutModel",
          "state": {
            "_view_name": "LayoutView",
            "grid_template_rows": null,
            "right": null,
            "justify_content": null,
            "_view_module": "@jupyter-widgets/base",
            "overflow": null,
            "_model_module_version": "1.2.0",
            "_view_count": null,
            "flex_flow": null,
            "width": null,
            "min_width": null,
            "border": null,
            "align_items": null,
            "bottom": null,
            "_model_module": "@jupyter-widgets/base",
            "top": null,
            "grid_column": null,
            "overflow_y": null,
            "overflow_x": null,
            "grid_auto_flow": null,
            "grid_area": null,
            "grid_template_columns": null,
            "flex": null,
            "_model_name": "LayoutModel",
            "justify_items": null,
            "grid_row": null,
            "max_height": null,
            "align_content": null,
            "visibility": null,
            "align_self": null,
            "height": null,
            "min_height": null,
            "padding": null,
            "grid_auto_rows": null,
            "grid_gap": null,
            "max_width": null,
            "order": null,
            "_view_module_version": "1.2.0",
            "grid_template_areas": null,
            "object_position": null,
            "object_fit": null,
            "grid_auto_columns": null,
            "margin": null,
            "display": null,
            "left": null
          }
        },
        "85d54a2de986459394874ca489605405": {
          "model_module": "@jupyter-widgets/controls",
          "model_name": "DescriptionStyleModel",
          "state": {
            "_view_name": "StyleView",
            "_model_name": "DescriptionStyleModel",
            "description_width": "",
            "_view_module": "@jupyter-widgets/base",
            "_model_module_version": "1.5.0",
            "_view_count": null,
            "_view_module_version": "1.2.0",
            "_model_module": "@jupyter-widgets/controls"
          }
        },
        "58930013cf44407eac1477031768585a": {
          "model_module": "@jupyter-widgets/base",
          "model_name": "LayoutModel",
          "state": {
            "_view_name": "LayoutView",
            "grid_template_rows": null,
            "right": null,
            "justify_content": null,
            "_view_module": "@jupyter-widgets/base",
            "overflow": null,
            "_model_module_version": "1.2.0",
            "_view_count": null,
            "flex_flow": null,
            "width": null,
            "min_width": null,
            "border": null,
            "align_items": null,
            "bottom": null,
            "_model_module": "@jupyter-widgets/base",
            "top": null,
            "grid_column": null,
            "overflow_y": null,
            "overflow_x": null,
            "grid_auto_flow": null,
            "grid_area": null,
            "grid_template_columns": null,
            "flex": null,
            "_model_name": "LayoutModel",
            "justify_items": null,
            "grid_row": null,
            "max_height": null,
            "align_content": null,
            "visibility": null,
            "align_self": null,
            "height": null,
            "min_height": null,
            "padding": null,
            "grid_auto_rows": null,
            "grid_gap": null,
            "max_width": null,
            "order": null,
            "_view_module_version": "1.2.0",
            "grid_template_areas": null,
            "object_position": null,
            "object_fit": null,
            "grid_auto_columns": null,
            "margin": null,
            "display": null,
            "left": null
          }
        }
      }
    }
  },
  "cells": [
    {
      "cell_type": "markdown",
      "metadata": {
        "id": "tNdzS5WaahVu"
      },
      "source": [
        "6\r\n",
        "    6.1 ---------- (1pt) ++\r\n",
        "    -text ans.           ++\r\n",
        "    6.2 ---------- (2pt) ++\r\n",
        "\r\n",
        "7\r\n",
        "    7.1 ---------- (1pt) ++\r\n",
        "    7.2 ----------       ++\r\n",
        "    7.3 ----------       ++\r\n",
        "    7.4 ----------       ++\r\n",
        "    7.5 ----------       ++\r\n",
        "    7.6 ---------- (1pt) ++\r\n",
        "8\r\n",
        "    8.1 ---------- (1pt) ++\r\n",
        "    8.2 ----------       ++\r\n",
        "    8.3 ---------- (1pt) ++\r\n",
        "\r\n",
        "9\r\n",
        "    9.1 ---------- (1pt) ++\r\n",
        "    9.2 ---------- (1pt) ++\r\n",
        "    9.3 ---------- (2pt) +-\r\n",
        "    9.4 ----------       --\r\n",
        "    9.5 ----------       --\r\n",
        "    9.6 ----------       --"
      ]
    },
    {
      "cell_type": "markdown",
      "metadata": {
        "id": "bWEEBnVC-Irv"
      },
      "source": [
        "# Home Assignment No. 2 - part two\n",
        "\n",
        "To solve this task, you will write a lot of code to try several machine learning methods for classification and regression.\n",
        "* You are **HIGHLY RECOMMENDED** to read relevant documentation, e.g. for [python](https://docs.python.org/3/), [numpy](https://docs.scipy.org/doc/numpy/reference/), [matlpotlib](https://matplotlib.org/) and [sklearn](https://scikit-learn.org/stable/). Also remember that seminars, lecture slides, [Google](http://google.com) and [StackOverflow](https://stackoverflow.com/) are your close friends during this course (and, probably, whole life?).\n",
        "\n",
        "* If you want an easy life, you have to use **BUILT-IN METHODS** of `sklearn` library instead of writing tons of your own code. There exists a class/method for almost everything you can imagine (related to this homework).\n",
        "\n",
        "* You have to write **CODE** directly inside specified places marked by comments: **BEGIN/END Solution**. Do not create new cells.\n",
        "\n",
        "* In some problems you are asked to provide a short discussion of the results. For that find the specific place marked via **Your text answer: \\<write your answer\\>**.\n",
        "\n",
        "* For every separate problem or subproblem (if specified) you can get only 0 points or maximal points for this problem. There are **NO INTERMEDIATE scores**. So make sure that you did everything required in the task.\n",
        "\n",
        "* Your **SOLUTION** notebook **MUST BE REPRODUCIBLE**, i.e., if the reviewer decides to restart the notebook and run all cells, after all the computation he will obtain exactly the same solution (with all the corresponding plots) as in your uploaded notebook. For this purpose, we suggest fixing random `seed` or (better) define `random_state=` inside every algorithm that uses some pseudorandomness.\n",
        "\n",
        "* Your code must be clear to the reviewer. For this purpose, try to include necessary comments inside the code. But remember: **GOOD CODE MUST BE SELF-EXPLANATORY** without any additional comments.\n",
        "\n",
        "* Many `sklearn` algorithms support multithreading (Ensemble Methods, Cross-Validation, etc.). Check if the particular algorithm has `n_jobs` parameters and set it to `-1` to use all the cores.\n"
      ]
    },
    {
      "cell_type": "markdown",
      "metadata": {
        "id": "ddR3sf3P82Ht"
      },
      "source": [
        "## Task 6. Deep ANNs. (3 points)\n",
        "\n",
        "-  **(1 pt.)** Activation functions; **(sub tasks 6.1)**\n",
        "-  **(2 pt.)** MNIST classification.  **(sub tasks 6.2)**\n",
        "\n",
        "\n",
        "\n",
        "### Task 6.1  Activation functions. \n",
        "Plot the following [activation functions](https://pytorch.org/docs/master/nn.html#non-linear-activation-functions) using their PyTorch implementation and their derivatives using [autograd](https://pytorch.org/docs/stable/autograd.html) functionality `grad()`:\n",
        "   \n",
        "1. Plot `ReLU`, `ELU` ($\\alpha = 1$), `Softplus` ($\\beta = 1$) and `Sign`, `Sigmoid`, `Softsign`, `Tanh`.\n"
      ]
    },
    {
      "cell_type": "code",
      "metadata": {
        "colab": {
          "base_uri": "https://localhost:8080/",
          "height": 369
        },
        "id": "hcF-2GHz8wMz",
        "outputId": "9a132fbd-c13e-4842-e86f-57c43cabee42"
      },
      "source": [
        "%matplotlib inline\n",
        "import torch.nn.functional as F\n",
        "import matplotlib.pyplot as plt\n",
        "import torch\n",
        "\n",
        "x = torch.arange(-2, 2, .01, requires_grad=True)\n",
        "x_np = x.detach().numpy()\n",
        "x.sum().backward() # to create x.grad\n",
        "\n",
        "f, axes = plt.subplots(2, 2, sharex=True, figsize=(14, 5))\n",
        "axes[0, 0].set_title('Values')\n",
        "axes[0, 1].set_title('Derivatives')\n",
        "\n",
        "for i, function_set in (0, (('ReLU', F.relu), ('ELU', F.elu), ('Softplus', F.softplus))), \\\n",
        "                       (1, (('Sign', torch.sign), ('Sigmoid', torch.sigmoid), ('Softsign', F.softsign), ('Tanh', torch.tanh))):\n",
        "    for function_name, activation in function_set:\n",
        "        ### BEGIN Solution\n",
        "\n",
        "        # zero grad\n",
        "        x.grad *= 0\n",
        "\n",
        "        # activation function\n",
        "        y = activation(x)\n",
        "        y.sum().backward()\n",
        "\n",
        "        # y to numpy array\n",
        "        y_np = y \n",
        "        y_np = y_np.detach().numpy()\n",
        "\n",
        "        # grad of x to numpy\n",
        "        grad = x.grad\n",
        "        grad = grad.detach().numpy()\n",
        "\n",
        "        # plot results\n",
        "        axes[i, 0].plot(x_np, y_np, label = function_name)\n",
        "        axes[i, 1].plot(x_np, grad, label = function_name)\n",
        "\n",
        "        ### END Solution\n",
        "\n",
        "    axes[i, 0].legend()\n",
        "    axes[i, 1].legend()\n",
        "\n",
        "plt.tight_layout()\n",
        "plt.show()"
      ],
      "execution_count": 134,
      "outputs": [
        {
          "output_type": "display_data",
          "data": {
            "image/png": "[encoded data removed]",
            "text/plain": [
              "<Figure size 1008x360 with 4 Axes>"
            ]
          },
          "metadata": {
            "tags": [],
            "needs_background": "light"
          }
        }
      ]
    },
    {
      "cell_type": "markdown",
      "metadata": {
        "id": "_misNcjO8wXF"
      },
      "source": [
        "Which of these functions may be, and which - definitely, are a poor choise as an activation function in a neural network? Why? Do not forget that output of the current layer servers as an input for the following one. Imagine a situation where we have many layers, what happens with the activation values?\n",
        "\n",
        "\n",
        "\n",
        "\n",
        "\n"
      ]
    },
    {
      "cell_type": "code",
      "metadata": {
        "id": "kk9O4UnEaUAr",
        "colab": {
          "base_uri": "https://localhost:8080/"
        },
        "outputId": "f008fa57-7969-4a0c-b105-6a132bcd18f5"
      },
      "source": [
        "# BEGIN SOLUTION (do not delete this comment!)\n",
        "\n",
        "torch.manual_seed(0) # for reproducibility\n",
        "\n",
        "# *   ReLU:       More good than bad choice.\n",
        "                  # Non-limited range of values (from 0 to +inf) (+-)\n",
        "                  # The gradient in the negative area is zero, so the weights will not be corrected during the gradient descent. (-)\n",
        "                  # ReLu is less computationally intensive than Tanh or Sigmoid. (+)\n",
        "                  # ReLU does not fix the gradient tearing issue. (-)\n",
        "                  # ELU does not fix dead gradient problem (-)\n",
        "\n",
        "# *   ELU:        More good than bad choice.\n",
        "                  # Greater computational complexity than ReLU. (-)\n",
        "                  # ELU does not fix the gradient tearing issue. (-)\n",
        "                  # ELU fixes dead gradient problem. (+)\n",
        "\n",
        "# *   Softplus:   More good than bad choice.\n",
        "                  # Smooth function, non-zero gradient everywhere. (+)\n",
        "                  # Softplus does not fix the gradient tearing issue. (-)\n",
        "                  # Softplus fixes dead gradient problem. (+)\n",
        "\n",
        "# *   Sign:       Definetly bad choice.\n",
        "                  # Zero gradient everywhere, it has 2 states: 0 and 1, without any intermediate value. (-)\n",
        "\n",
        "# *   Sigmoid:    More good than bad choice. (similar to Tanh)\n",
        "                  # Smooth function, non-zero gradient everywhere, limited range of values (2 asymptotes: y = 0, y = 1). (+-)\n",
        "                  # But sensitivity decreases when input -> +inf/-inf and gradient for these values is about zero. (-)\n",
        "                  # It has only positive values. (+-)\n",
        "                  # Lower gradient values in comparsion with Tanh. (+-)\n",
        "\n",
        "# *   Tanh:       More good than bad choice. (similar to Sigmoid)\n",
        "                  # Smooth function, non-zero gradient everywhere, limited range of values (2 asymptotes: y = -1, y = 1). (+-)\n",
        "                  # But sensitivity decreases when input -> +inf/-inf and gradient for these values is about zero. (-)\n",
        "                  # It has both positive and negative values. (+-)\n",
        "                  # Hihger gradient values in comparsion with Sigmoid. (+-)\n",
        "\n",
        "#END SOLUTION (do not delete this comment!)"
      ],
      "execution_count": 135,
      "outputs": [
        {
          "output_type": "execute_result",
          "data": {
            "text/plain": [
              "<torch._C.Generator at 0x7fe36a3f2950>"
            ]
          },
          "metadata": {
            "tags": []
          },
          "execution_count": 135
        }
      ]
    },
    {
      "cell_type": "markdown",
      "metadata": {
        "id": "sW9OYyIw8wz4"
      },
      "source": [
        "### Task 6.2 MNIST classification. \n",
        "\n",
        "At one of the seminars we have discussed an MLP (Multilayer perceptron) with one hidden layer, logistic activation functions and softmax. In this task, you are to:\n",
        "\n",
        "1. Implement the MLP modules, including the Softmax cross entropy between `logits` and `labels` using numpy.\n",
        "\n",
        "2.  Train your numpy realization of MLP to classify the MNIST from `sklearn.datasets()`. The required accuracy on validation is `> 90%`.\n",
        "\n",
        "3.  Compare the acccuracy of classification to your scores from `Part 1` with and without dimensionality reduction. Is this comparison fair?:) Derive the confusion matrix for all digits classes. Which digits are predicted better or worse than others, why?"
      ]
    },
    {
      "cell_type": "code",
      "metadata": {
        "id": "RKxe88YT_p9P"
      },
      "source": [
        "import numpy as np\n",
        "import pandas as pd\n",
        "import matplotlib.pyplot as plt\n",
        "\n",
        "from sklearn.datasets import load_digits\n",
        "from sklearn.model_selection import train_test_split\n",
        "from sklearn.metrics import confusion_matrix, accuracy_score"
      ],
      "execution_count": 136,
      "outputs": []
    },
    {
      "cell_type": "code",
      "metadata": {
        "id": "E7_2lHue_r0x"
      },
      "source": [
        "# fetch the dataset.\n",
        "digits, targets = load_digits(return_X_y=True)\n",
        "digits = digits.astype(np.float32) / 255\n",
        "\n",
        "digits_train, digits_test, targets_train, targets_test = train_test_split(digits, targets, random_state=0)\n",
        "\n",
        "train_size = digits_train.shape[0]\n",
        "test_size = digits_test.shape[0]\n",
        "\n",
        "input_size = 8*8\n",
        "classes_n = 10"
      ],
      "execution_count": 137,
      "outputs": []
    },
    {
      "cell_type": "code",
      "metadata": {
        "colab": {
          "base_uri": "https://localhost:8080/",
          "height": 111
        },
        "id": "feWQtoKtn1vV",
        "outputId": "be82fc90-6d3b-4268-e246-a15ba94ed2be"
      },
      "source": [
        "N = 10\n",
        "\n",
        "sample_idx = np.random.choice(1797, N, replace=False)\n",
        "digits_sample = digits[sample_idx]\n",
        "targets_sample = targets[sample_idx]\n",
        "f, ax  = plt.subplots(1,10, figsize=(10, 5))\n",
        "\n",
        "for i in range(N):\n",
        "    ax[i].imshow(digits_sample[i].reshape(8,8))\n",
        "    ax[i].set_title('label: '+str(targets_sample[i]))\n"
      ],
      "execution_count": 138,
      "outputs": [
        {
          "output_type": "display_data",
          "data": {
            "image/png": "[encoded data removed]",
            "text/plain": [
              "<Figure size 720x360 with 10 Axes>"
            ]
          },
          "metadata": {
            "tags": [],
            "needs_background": "light"
          }
        }
      ]
    },
    {
      "cell_type": "markdown",
      "metadata": {
        "id": "Pj6EctS6yTJK"
      },
      "source": [
        "A short recap on what we are going to achieve here.\n",
        "<br>\n",
        "1. Forward pass:\n",
        "$$\n",
        "h_1 = X\\theta_1+\\beta_1\n",
        "$$\n",
        "\n",
        "$$\n",
        "O_1 = sig(h_1)\n",
        "$$\n",
        "\n",
        "$$\n",
        "h_2 = O_1\\theta_2+\\beta_2\n",
        "$$\n",
        "$$\n",
        "O_2 = softmax(h_2)\n",
        "$$\n",
        "$$\n",
        "Loss = CrossEntropy(O_2, true \\space labels)\n",
        "$$\n",
        "\n",
        "2. Compute gradients: \n",
        "\n",
        "To update weights first we need to compute loss gradients with respect to $\\theta_1$ and $\\theta_2$ and then update both $\\theta$ and $\\beta$.\n",
        "\n",
        "$$\n",
        "\\frac{ \\partial{loss} }{\\partial{\\theta_2}} = \\frac{ \\partial{loss} }{\\partial{O_2}}\\frac{ \\partial{O_2} }{\\partial{h_2}}\\frac{ \\partial{h_2} }{\\partial{\\theta_2}}\n",
        "$$\n",
        "Note, that $\\frac{ \\partial{h_2} }{\\partial{\\theta_2}}=O_1$, so we can cache this value during forward pass to speed up our computation.\n",
        "$$\n",
        "\\frac{ \\partial{loss} }{\\partial{\\theta_1}} = \\frac{ \\partial{loss} }{\\partial{O_2}}\\frac{ \\partial{O_2} }{\\partial{h_2}}\\frac{ \\partial{h_2} }{\\partial{O_1}}\\frac{ \\partial{O_1} }{\\partial{h_1}}\\frac{ \\partial{h_1} }{\\partial{\\theta_1}}\n",
        "$$\n",
        "Note, that $\\frac{ \\partial{h_1} }{\\partial{\\theta_1}}=X$.\n",
        "\n",
        "Since we are using sigmoid avtivation function here and\n",
        "$$\n",
        "\\frac{ \\partial{sig} }{\\partial{h}} = sig(h)(1 - sig(h))\n",
        "$$\n",
        "It also makes sense to cache sig(h) during forward pass.\n",
        "\n",
        "3. Update weights:\n",
        "\n",
        "$\\theta:= \\theta -  \\frac{ \\partial{loss} }{\\partial{\\theta}}\\alpha$, where $\\alpha$ is some learning rate.\n",
        "\n",
        "Note, it was not shown here how to update and compute $\\beta$ but you can do it!"
      ]
    },
    {
      "cell_type": "markdown",
      "metadata": {
        "id": "CaBenjDI_x6k"
      },
      "source": [
        "### Implement the MLP with backprop"
      ]
    },
    {
      "cell_type": "code",
      "metadata": {
        "id": "ffpXAKqQ_vfg"
      },
      "source": [
        "### YOUR TASK STARTS HERE ###\n",
        "\n",
        "#Here you should implement by yourself MLP class and its constituents including forward and backward propagation methods\n",
        "\n",
        "class Linear:\n",
        "    def __init__(self, input_size, output_size):\n",
        "        # Trainable parameters of the layer and their gradients\n",
        "        self.thetas = np.random.randn(input_size, output_size) # the weight matrix of the layer (W)\n",
        "        self.thetas_grads = np.empty_like(self.thetas) # gradient w.r.t. the weight matrix of the layer\n",
        "        self.bias = np.random.randn(output_size) # bias terms of the layer (b)\n",
        "        self.bias_grads = np.empty_like(self.bias) # gradient w.r.t. bias terms of the linear layer\n",
        "\n",
        "    def forward(self, x): \n",
        "        # keep x for backward computation\n",
        "        self.x = x\n",
        "        output = np.matmul(x, self.thetas) + self.bias\n",
        "        return output\n",
        "    \n",
        "    def backward(self, output_grad, learning_rate):\n",
        "        \"\"\"\n",
        "        Calculate and return gradient of the loss w.r.t. the input of linear layer given the input x and the gradient \n",
        "        w.r.t output of linear layer. You should also calculate and update gradients of layer parameters.\n",
        "        :param x: np.array, input tensor for linear layer;\n",
        "        :param output_grad: np.array, grad tensor w.r.t output of linear layer;\n",
        "        :return: np.array, grad w.r.t input of linear layer\n",
        "        \"\"\"\n",
        "        \n",
        "        # BEGIN SOLUTION (do not delete this comment!)\n",
        "\n",
        "        # calculate input_grad value\n",
        "        input_grad = np.matmul(output_grad, self.thetas.T)\n",
        "        # update thetas_grads\n",
        "        self.thetas_grads = np.matmul(self.x.T, output_grad)\n",
        "        # update bias_grads\n",
        "        self.bias_grads = output_grad.reshape((-1))\n",
        "\n",
        "        # END Solution (do not delete this comment!)\n",
        "        \n",
        "        return input_grad\n",
        "\n",
        "    def step(self, learning_rate):\n",
        "        self.thetas -= self.thetas_grads * learning_rate\n",
        "        self.bias -= self.bias_grads * learning_rate\n",
        "\n",
        "class LogisticActivation:\n",
        "    def __init__(self):\n",
        "        # the layer has no parameters\n",
        "        pass \n",
        "        \n",
        "    def sig(self, x):\n",
        "        return 1/(1 + np.exp(-x))\n",
        "\n",
        "    def forward(self, x):\n",
        "        # keep o for backward computation\n",
        "        self.o = self.sig(x)\n",
        "        return self.o \n",
        "\n",
        "\n",
        "    def backward(self,  output_grad, learning_rate=None):\n",
        "        \"\"\"\n",
        "        Calculate and return the gradient of the loss w.r.t. the input\n",
        "        of logistic non-linearity (given input x and the gradient \n",
        "        w.r.t output of logistic non-linearity).\n",
        "        \n",
        "        :param x: np.array, input tensor for logistic non-linearity;\n",
        "        :param output_grad: np.array, grad tensor w.r.t output of logistic non-linearity;\n",
        "        :return: np.array, grad w.r.t input of logistic non-linearity\n",
        "        \n",
        "        \"\"\"\n",
        "        \n",
        "       # BEGIN SOLUTION (do not delete this comment!)\n",
        "\n",
        "        sigma = self.o # there is no x as input\n",
        "        input_grad = sigma * output_grad * (1 - sigma)\n",
        "\n",
        "        ### END Solution (do not delete this comment!)\n",
        "        \n",
        "        return input_grad\n",
        "\n",
        "\n",
        "class MLP:\n",
        "    def __init__(self, input_size, hidden_layer_size, output_size):\n",
        "        self.linear1 = Linear(input_size, hidden_layer_size)\n",
        "        self.activation1 = LogisticActivation()\n",
        "        self.linear2 = Linear(hidden_layer_size, output_size)\n",
        "        \n",
        "    def forward(self, x):\n",
        "        h1 = self.linear1.forward(x)\n",
        "        h1a = self.activation1.forward(h1)\n",
        "        out = self.linear2.forward(h1a)\n",
        "        return out\n",
        "\n",
        "    def backward(self, output_grad, learning_rate):\n",
        "        \"\"\"\n",
        "        Calculate and return the gradient of the loss w.r.t. the input of MLP given the input and the gradient \n",
        "        w.r.t output of MLP. You should also update gradients of paramerters of MLP layers.\n",
        "        Hint - you should chain backward operations of modules you have already implemented. You may also\n",
        "        need to calculate intermediate forward results.\n",
        "        \n",
        "        :param x: np.array, input tensor for MLP;\n",
        "        :param output_grad: np.array, grad tensor w.r.t output of MLP;\n",
        "        :return: np.array, grad w.r.t input of MLP\n",
        "        \"\"\"\n",
        " \n",
        "        # BEGIN SOLUTION (do not delete this comment!)\n",
        "        \n",
        "        # output gradient for linear2 layer\n",
        "        out_grad_linear2 = self.linear2.backward(output_grad = output_grad, learning_rate = 0)\n",
        "        # output gradient for activation function\n",
        "        out_grad_activation1 = self.activation1.backward(output_grad = out_grad_linear2, learning_rate = 0)\n",
        "        # output gradient for linear1 layer\n",
        "        out = self.linear1.backward(output_grad = out_grad_activation1, learning_rate = 0)\n",
        "\n",
        "        # END Solution (do not delete this comment!)\n",
        "        \n",
        "\n",
        "        return  out\n"
      ],
      "execution_count": 139,
      "outputs": []
    },
    {
      "cell_type": "code",
      "metadata": {
        "id": "07DUqp86_0To"
      },
      "source": [
        "# BEGIN SOLUTION (do not delete this comment!)\n",
        "\n",
        "def softmax_crossentropy_with_logits(logits, reference_answers): \n",
        "\n",
        "    targ_val = np.zeros_like(logits)\n",
        "    targ_val[np.arange(logits.shape[0]), reference_answers] = 1\n",
        "\n",
        "    preds = np.exp(logits) / np.exp(logits).sum(axis = 1, keepdims = True) # calculate soft max\n",
        "    loss = - (targ_val * np.log(preds).sum(axis = 1)).mean() # calculate cross-entropy\n",
        "\n",
        "    ### END Solution\n",
        "    return loss\n",
        "\n",
        "def grad_softmax_crossentropy_with_logits(logits, reference_answers):\n",
        "    \n",
        "    targ_val = np.zeros_like(logits)\n",
        "    targ_val[np.arange(logits.shape[0]), reference_answers] = 1\n",
        "    \n",
        "    grad = (np.exp(logits) / np.exp(logits).sum(axis = 1)) - targ_val # calculate (softmax - target)\n",
        "\n",
        "    return grad # >>> your solution here <<<\n",
        "\n",
        "# BEGIN Solution"
      ],
      "execution_count": 140,
      "outputs": []
    },
    {
      "cell_type": "code",
      "metadata": {
        "colab": {
          "base_uri": "https://localhost:8080/"
        },
        "id": "DWkD2V1y_4QU",
        "outputId": "185bc3f8-353f-492d-a4ce-3f16e7e0ca7a"
      },
      "source": [
        "np.random.seed(42)\n",
        "\n",
        "mlp = MLP(input_size=input_size, hidden_layer_size=100, output_size=classes_n)\n",
        "\n",
        "epochs_n = 100\n",
        "learning_curve = [0] * epochs_n\n",
        "test_curve = [0] * epochs_n\n",
        "\n",
        "x_train = digits_train\n",
        "x_test = digits_test\n",
        "y_train = targets_train\n",
        "y_test = targets_test\n",
        "\n",
        "learning_rate = 1e-2\n",
        "\n",
        "for epoch in range(epochs_n):\n",
        "    \n",
        "    y_pred = []\n",
        "\n",
        "    for sample_i in range(train_size):\n",
        "        x = x_train[sample_i].reshape((1, -1))\n",
        "        target = np.array([y_train[sample_i]])\n",
        "\n",
        "        ### BEGIN Solution\n",
        "\n",
        "        # zero gradients\n",
        "        mlp.linear1.thetas_grads = 0\n",
        "        mlp.linear2.thetas_grads = 0\n",
        "        mlp.linear1.bias_grads = 0\n",
        "        mlp.linear2.bias_grads = 0\n",
        "\n",
        "        # ... perform forward pass and compute the loss\n",
        "        logits = mlp.forward(x)\n",
        "        loss = softmax_crossentropy_with_logits(logits, target)\n",
        "\n",
        "        # ... compute the gradients w.r.t. the input of softmax layer\n",
        "        grad = grad_softmax_crossentropy_with_logits(logits, target)\n",
        "\n",
        "        # ... perform backward pass\n",
        "        mlp.backward(output_grad = grad, learning_rate = 0)\n",
        "\n",
        "        # ... and update the weights with weight -= grad * learning_rate\n",
        "        mlp.linear1.step(learning_rate = learning_rate)\n",
        "        mlp.linear2.step(learning_rate = learning_rate)\n",
        "\n",
        "        # >>> your solution here <<<\n",
        "\n",
        "        ### END Solution\n",
        "\n",
        "        y_pred.extend(logits.argmax(1))\n",
        "\n",
        "    if epoch % 10 == 0:\n",
        "        \n",
        "        y_pred_test = []\n",
        "\n",
        "        for sample_i in range(test_size):\n",
        "            x = x_test[sample_i].reshape((1, -1))\n",
        "            target = np.array([y_test[sample_i]])\n",
        "            \n",
        "            logits = mlp.forward(x)\n",
        "            y_pred_test.extend(logits.argmax(1))\n",
        "\n",
        "        print('Starting epoch {}'.format(epoch), \\\n",
        "              ', Loss : {:.3}'.format(loss), \\\n",
        "              ', Accuracy on train: {:.3}'.format(accuracy_score(y_train, y_pred)), \\\n",
        "              ', Accuracy on test: {:.3}'.format(accuracy_score(y_test, y_pred_test)) )\n",
        "        \n"
      ],
      "execution_count": 141,
      "outputs": [
        {
          "output_type": "stream",
          "text": [
            "Starting epoch 0 , Loss : 2.4 , Accuracy on train: 0.103 , Accuracy on test: 0.0667\n",
            "Starting epoch 10 , Loss : 2.41 , Accuracy on train: 0.625 , Accuracy on test: 0.649\n",
            "Starting epoch 20 , Loss : 2.51 , Accuracy on train: 0.821 , Accuracy on test: 0.807\n",
            "Starting epoch 30 , Loss : 2.68 , Accuracy on train: 0.875 , Accuracy on test: 0.871\n",
            "Starting epoch 40 , Loss : 2.9 , Accuracy on train: 0.9 , Accuracy on test: 0.889\n",
            "Starting epoch 50 , Loss : 3.14 , Accuracy on train: 0.911 , Accuracy on test: 0.904\n",
            "Starting epoch 60 , Loss : 3.37 , Accuracy on train: 0.92 , Accuracy on test: 0.924\n",
            "Starting epoch 70 , Loss : 3.59 , Accuracy on train: 0.927 , Accuracy on test: 0.931\n",
            "Starting epoch 80 , Loss : 3.79 , Accuracy on train: 0.929 , Accuracy on test: 0.931\n",
            "Starting epoch 90 , Loss : 3.98 , Accuracy on train: 0.936 , Accuracy on test: 0.933\n"
          ],
          "name": "stdout"
        }
      ]
    },
    {
      "cell_type": "code",
      "metadata": {
        "colab": {
          "base_uri": "https://localhost:8080/"
        },
        "id": "0DNQhxXaARCy",
        "outputId": "b8f9e9cd-fc8f-41b8-8253-14d27bcde5cc"
      },
      "source": [
        "# BEGIN SOLUTION (do not delete this comment!)\n",
        "     \n",
        "# confusion matrix\n",
        "true = y_test # get true values\n",
        "pred = mlp.forward(x_test) # make predictions\n",
        "# plot confusion matrix\n",
        "confusion_matrix(y_true = true, y_pred = np.argmax(pred, axis=1))\n",
        "\n",
        "# END Solution (do not delete this comment!)"
      ],
      "execution_count": 9,
      "outputs": [
        {
          "output_type": "execute_result",
          "data": {
            "text/plain": [
              "array([[37,  0,  0,  0,  0,  0,  0,  0,  0,  0],\n",
              "       [ 0, 39,  0,  0,  0,  0,  2,  0,  0,  2],\n",
              "       [ 0,  1, 41,  1,  0,  0,  0,  1,  0,  0],\n",
              "       [ 0,  0,  0, 43,  0,  0,  0,  0,  1,  1],\n",
              "       [ 0,  0,  0,  0, 37,  0,  0,  1,  0,  0],\n",
              "       [ 0,  0,  0,  0,  0, 46,  0,  0,  0,  2],\n",
              "       [ 0,  1,  0,  0,  0,  0, 51,  0,  0,  0],\n",
              "       [ 0,  0,  0,  0,  0,  0,  0, 48,  0,  0],\n",
              "       [ 0,  4,  1,  0,  0,  1,  0,  1, 41,  0],\n",
              "       [ 0,  0,  0,  4,  0,  2,  0,  0,  1, 40]])"
            ]
          },
          "metadata": {
            "tags": []
          },
          "execution_count": 9
        }
      ]
    },
    {
      "cell_type": "markdown",
      "metadata": {
        "id": "MkSdyrpn8xdE"
      },
      "source": [
        "## Task 7. Autoencoders on tabular data (2 points)\n",
        "**From now on we will be using pytorch for all the tasks.**\n",
        "\n",
        "We will build a latent representation for tabular data with simple Autoencoder (AE). We are going to work with the cancer dataset from scikit-learn package. You are to follow the instructions.  \n",
        "\n",
        "1. **(1 pt.)**  Implement AE modules for tabular data. Train AE to get latent representation of the cancer dataset from `sklearn.datasets()`. Use `MSE` loss and get < $0.3$ on validation, with AE \"bottleneck\" = $2$;   **(sub tasks 7.1 - 7.5)**\n",
        "\n",
        "2. **(1 pt.)** Plot the latent representation of whole dataset in 2D, use colors to show object of different classes. **(sub tasks: 7.6)**\n"
      ]
    },
    {
      "cell_type": "code",
      "metadata": {
        "id": "Sg5fX833AX9q"
      },
      "source": [
        "# imports\n",
        "\n",
        "import torch\n",
        "import torch.nn as nn\n",
        "import torch.utils.data as torch_data\n",
        "\n",
        "import sklearn.datasets as sk_data\n",
        "from sklearn.model_selection import train_test_split\n",
        "from sklearn.linear_model import LogisticRegression\n",
        "from sklearn.preprocessing import StandardScaler\n"
      ],
      "execution_count": 142,
      "outputs": []
    },
    {
      "cell_type": "markdown",
      "metadata": {
        "id": "AYtA62xA8xgB"
      },
      "source": [
        "#### 7.1 Fetch the data. Scale it and split on train and test."
      ]
    },
    {
      "cell_type": "code",
      "metadata": {
        "colab": {
          "base_uri": "https://localhost:8080/"
        },
        "id": "BinFOZc7Abpx",
        "outputId": "331630d7-2de0-4279-d15f-d78abc4c31c0"
      },
      "source": [
        "\n",
        "cancer_dset = sk_data.load_breast_cancer()\n",
        "\n",
        "X_train, X_val, y_train, y_val = train_test_split(cancer_dset['data'], cancer_dset['target'], test_size=0.2, random_state=42)\n",
        "print('\\nTrain size: ', len(X_train))\n",
        "print('Validation size: ', len(X_val))\n",
        "\n",
        "scaler = StandardScaler() \n",
        "scaler.fit(X_train)\n",
        "\n",
        "X_train = scaler.transform(X_train)\n",
        "X_val = scaler.transform(X_val)\n",
        "\n",
        "print('Features: ', list(cancer_dset['feature_names']))\n",
        "print('\\nShape:', X_train.shape)\n",
        "\n"
      ],
      "execution_count": 143,
      "outputs": [
        {
          "output_type": "stream",
          "text": [
            "\n",
            "Train size:  455\n",
            "Validation size:  114\n",
            "Features:  ['mean radius', 'mean texture', 'mean perimeter', 'mean area', 'mean smoothness', 'mean compactness', 'mean concavity', 'mean concave points', 'mean symmetry', 'mean fractal dimension', 'radius error', 'texture error', 'perimeter error', 'area error', 'smoothness error', 'compactness error', 'concavity error', 'concave points error', 'symmetry error', 'fractal dimension error', 'worst radius', 'worst texture', 'worst perimeter', 'worst area', 'worst smoothness', 'worst compactness', 'worst concavity', 'worst concave points', 'worst symmetry', 'worst fractal dimension']\n",
            "\n",
            "Shape: (455, 30)\n"
          ],
          "name": "stdout"
        }
      ]
    },
    {
      "cell_type": "markdown",
      "metadata": {
        "id": "x7Dzo8VIAaaf"
      },
      "source": [
        "#### 7.2 Let us firstly create the dataset, which we'll be able to use with pytorch dataloader. \n",
        "Implement `__len__` and `__getitem__` methods."
      ]
    },
    {
      "cell_type": "code",
      "metadata": {
        "id": "Vi4Cq7DtAl8u"
      },
      "source": [
        "### BEGIN Solution\n",
        "\n",
        "class CancerData(torch_data.Dataset):\n",
        "    def __init__(self, X, y):\n",
        "        super(CancerData, self).__init__()\n",
        "        self.X = torch.tensor(X, dtype=torch.float32)\n",
        "        self.y = torch.tensor(y, dtype=torch.float32)\n",
        "    \n",
        "    def __len__(self):\n",
        "        len = self.X.shape[0]\n",
        "        return len # >>> your solution here <<<\n",
        "    \n",
        "    def __getitem__(self, idx):\n",
        "        xidx = self.X[idx]\n",
        "        yidx = self.y[idx]\n",
        "        return xidx, yidx # >>> your solution here <<<\n",
        "\n",
        "\n",
        "### END Solution"
      ],
      "execution_count": 144,
      "outputs": []
    },
    {
      "cell_type": "code",
      "metadata": {
        "colab": {
          "base_uri": "https://localhost:8080/"
        },
        "id": "f4emJDB1ApHh",
        "outputId": "b64a0448-4d89-4e71-d902-6a38e7c9206e"
      },
      "source": [
        "train_dset = CancerData(X_train, y_train) \n",
        "val_dset = CancerData(X_val, y_val) \n",
        "\n",
        "print(train_dset[5])"
      ],
      "execution_count": 145,
      "outputs": [
        {
          "output_type": "stream",
          "text": [
            "(tensor([ 0.1196,  1.9607,  0.1995,  0.0125,  1.3055,  1.0662,  0.9448,  0.6670,\n",
            "         1.7919,  1.1127, -0.1132, -0.3136,  0.0100, -0.1594, -0.4526,  0.9020,\n",
            "         0.4543, -0.1581, -0.2454,  0.5911,  0.2549,  1.9137,  0.5098,  0.1168,\n",
            "         1.5730,  2.6153,  2.0462,  0.8738,  2.0814,  2.8176]), tensor(0.))\n"
          ],
          "name": "stdout"
        }
      ]
    },
    {
      "cell_type": "markdown",
      "metadata": {
        "id": "ksiBurhhAapc"
      },
      "source": [
        "#### 7.3 Now, we'll make a base class for our autoencoder. \n",
        "AE takes as input encoder and decoder (it will be two neural networks). Your task is to implement the forward pass."
      ]
    },
    {
      "cell_type": "code",
      "metadata": {
        "id": "wVlgW3_rAqgu"
      },
      "source": [
        "class MyFirstAE(nn.Module):\n",
        "    def __init__(self, encoder, decoder):\n",
        "        super(MyFirstAE, self).__init__()\n",
        "        self.encoder = encoder\n",
        "        self.decoder = decoder\n",
        "    \n",
        "    def forward(self, x):\n",
        "        \"\"\"\n",
        "        Take a mini-batch as an input, encode it to the latent space and decode back to the original space\n",
        "        x_out = decoder(encoder(x))\n",
        "        :param x: torch.tensor, (MB, x_dim)\n",
        "        :return: torch.tensor, (MB, x_dim)\n",
        "        \"\"\"\n",
        "        # BEGIN SOLUTION (do not delete this comment!)\n",
        "\n",
        "        # encode data\n",
        "        encoded = self.encoder(x)\n",
        "        # decode data\n",
        "        decoded = self.decoder(encoded)\n",
        "        # send decoded data to the output\n",
        "        x = decoded\n",
        "\n",
        "        # END Solution (do not delete this comment!)\n",
        "        \n",
        "        return x"
      ],
      "execution_count": 146,
      "outputs": []
    },
    {
      "cell_type": "markdown",
      "metadata": {
        "id": "rp39DZHDAzfQ"
      },
      "source": [
        "#### It is high time to create encoder and decoder neural networks!\n",
        "Make hidden size of the network to be equal to `2`.\n",
        "\n",
        "**Hint.** You can use `nn.Sequential` to create your own archtectures."
      ]
    },
    {
      "cell_type": "code",
      "metadata": {
        "id": "gQ5Zuro3Aqmu"
      },
      "source": [
        "encoder = nn.Sequential(\n",
        "                        # >>> your solution here <<<\n",
        "                        # linear layer: 30 input, 50 output\n",
        "                        nn.Linear(30, 50, bias = True),\n",
        "                        # nn.BatchNorm1d(50), # has not increased perfomance\n",
        "                        # activation function\n",
        "                        nn.ReLU(),\n",
        "                        # linear layer: 50 input, 2 output\n",
        "                        nn.Linear(50, 2, bias = True)\n",
        "                        )  \n",
        "\n",
        "decoder = nn.Sequential(\n",
        "                        # >>> your solution here <<<\n",
        "                        # linear layer: 2 input, 50 output\n",
        "                        nn.Linear(2, 50, bias = True),\n",
        "                        # nn.BatchNorm1d(50), # has not increased perfomance\n",
        "                        # activation function\n",
        "                        nn.ReLU(),\n",
        "                        # linear layer: 50 input, 30 output\n",
        "                        nn.Linear(50, 30, bias = True)\n",
        "                        )"
      ],
      "execution_count": 147,
      "outputs": []
    },
    {
      "cell_type": "code",
      "metadata": {
        "id": "NOiJCm00A2t5"
      },
      "source": [
        "device = 'cpu' # >>> your solution here <<<\n",
        "\n",
        "net = MyFirstAE(encoder, decoder) \n",
        "criterion = nn.MSELoss()\n",
        "optimizer = torch.optim.Adam(net.parameters(), lr = 0.03, weight_decay = 1e-6) # >>> your solution here <<<\n",
        "scheduler = torch.optim.lr_scheduler.MultiStepLR(optimizer, milestones = range(10, 500, 10), gamma = 0.55) # >>> your solution here <<<\n",
        "\n",
        "train_loader = torch_data.DataLoader(train_dset, batch_size=50, shuffle=True) \n",
        "val_loader = torch_data.DataLoader(val_dset, batch_size=200, shuffle=False) "
      ],
      "execution_count": 148,
      "outputs": []
    },
    {
      "cell_type": "markdown",
      "metadata": {
        "id": "hgOC1-iZA6ev"
      },
      "source": [
        "#### 7.4 Implement the missing parts of the `train` function"
      ]
    },
    {
      "cell_type": "code",
      "metadata": {
        "id": "3SvYM1dxA5kI"
      },
      "source": [
        "def train(epochs, net, criterion, optimizer, train_loader, val_loader,scheduler=None, verbose=True, save_dir=None):\n",
        "    \n",
        "    freq = max(epochs//20,1)\n",
        "    net.to(device)\n",
        "    \n",
        "    for epoch in range(1, epochs+1):\n",
        "        net.train()\n",
        "\n",
        "        losses_train = []\n",
        "        for X, _ in train_loader:\n",
        "            \n",
        "            ### BEGIN Solution\n",
        "\n",
        "            X_decoded = net.forward(X) # forward\n",
        "            loss = criterion(X , X_decoded) # get loss on train data\n",
        "            optimizer.zero_grad() # zero gradient\n",
        "            loss.backward() # back propagation\n",
        "            losses_train.append(loss.view((-1, 1)).detach()) # append loss\n",
        "            \n",
        "            # Perform one step of minibatch stochastic gradient descent\n",
        "            optimizer.step()\n",
        "\n",
        "            # >>> your solution here <<<\n",
        "\n",
        "        # define NN evaluation, i.e. turn off dropouts, batchnorms, etc.\n",
        "        net.eval()\n",
        "\n",
        "        losses_val = []\n",
        "        for X, _ in val_loader:\n",
        "            \n",
        "            \n",
        "            \n",
        "            # Compute the validation loss\n",
        "\n",
        "            # >>> your solution here <<<\n",
        " \n",
        "            X_decoded = net.forward(X) # forward\n",
        "            loss = criterion(X, X_decoded) # calculate loss on val data\n",
        "            losses_val.append(loss.view((-1, 1)).detach()) # save into the list\n",
        "\n",
        "            ### END Solution\n",
        "\n",
        "        if scheduler is not None:\n",
        "            scheduler.step()\n",
        "        \n",
        "        if verbose and epoch%freq==0:\n",
        "            mean_val = sum(losses_val)/len(losses_val)\n",
        "            mean_train = sum(losses_train)/len(losses_train)\n",
        "\n",
        "            print('Epoch {}/{} || Loss:  Train {:.4f} | Validation {:.4f}'\\\n",
        "                  .format(epoch, epochs, mean_train.item(), mean_val.item()))"
      ],
      "execution_count": 149,
      "outputs": []
    },
    {
      "cell_type": "markdown",
      "metadata": {
        "id": "IsrutdnJAasT"
      },
      "source": [
        "#### 7.5 Train your AE on breast cancer dataset. \n",
        "Your goal is to get validation error <0.3.\n",
        "\n",
        "Some features that may help you to improve the performance:\n",
        "* `Dropout`\n",
        "* `Batchnorm`\n",
        "* lr scheduler\n",
        "* Batch size increase/decrease"
      ]
    },
    {
      "cell_type": "code",
      "metadata": {
        "colab": {
          "base_uri": "https://localhost:8080/"
        },
        "id": "Gj9Bk-RQBHcD",
        "outputId": "af7a507c-e417-4352-8421-0cfa77136c32"
      },
      "source": [
        "# for `MSE` loss get < 0.3 on validation, with AE \"bottleneck\" = 2\n",
        "train(100, net, criterion, optimizer, train_loader, val_loader, scheduler) "
      ],
      "execution_count": 150,
      "outputs": [
        {
          "output_type": "stream",
          "text": [
            "Epoch 5/100 || Loss:  Train 0.4583 | Validation 0.3342\n",
            "Epoch 10/100 || Loss:  Train 0.3248 | Validation 0.3267\n",
            "Epoch 15/100 || Loss:  Train 0.2998 | Validation 0.3148\n",
            "Epoch 20/100 || Loss:  Train 0.3167 | Validation 0.3064\n",
            "Epoch 25/100 || Loss:  Train 0.3052 | Validation 0.3014\n",
            "Epoch 30/100 || Loss:  Train 0.2931 | Validation 0.2931\n",
            "Epoch 35/100 || Loss:  Train 0.2961 | Validation 0.2905\n",
            "Epoch 40/100 || Loss:  Train 0.2911 | Validation 0.2858\n",
            "Epoch 45/100 || Loss:  Train 0.2796 | Validation 0.2852\n",
            "Epoch 50/100 || Loss:  Train 0.2617 | Validation 0.2816\n",
            "Epoch 55/100 || Loss:  Train 0.2874 | Validation 0.2833\n",
            "Epoch 60/100 || Loss:  Train 0.2657 | Validation 0.2823\n",
            "Epoch 65/100 || Loss:  Train 0.2580 | Validation 0.2811\n",
            "Epoch 70/100 || Loss:  Train 0.2678 | Validation 0.2818\n",
            "Epoch 75/100 || Loss:  Train 0.2654 | Validation 0.2809\n",
            "Epoch 80/100 || Loss:  Train 0.2962 | Validation 0.2805\n",
            "Epoch 85/100 || Loss:  Train 0.2659 | Validation 0.2815\n",
            "Epoch 90/100 || Loss:  Train 0.2657 | Validation 0.2814\n",
            "Epoch 95/100 || Loss:  Train 0.2597 | Validation 0.2815\n",
            "Epoch 100/100 || Loss:  Train 0.2586 | Validation 0.2813\n"
          ],
          "name": "stdout"
        }
      ]
    },
    {
      "cell_type": "markdown",
      "metadata": {
        "id": "9Tq4AMlDBCjW"
      },
      "source": [
        "#### 7.5 Let us take a look at the latent space. \n",
        "Encode the whole dataset, using your AE, plot it in 2D and use colors to indicate objects of differrent classes"
      ]
    },
    {
      "cell_type": "code",
      "metadata": {
        "colab": {
          "base_uri": "https://localhost:8080/",
          "height": 336
        },
        "id": "_DD8qANbBN1s",
        "outputId": "1a2b26b5-2f5f-4573-fd05-2c40b668ab2f"
      },
      "source": [
        " ### BEGIN Solution\n",
        "plt.figure(figsize=(14, 5))\n",
        "net.eval()\n",
        "enc = encoder(torch.Tensor(StandardScaler().fit_transform(cancer_dset['data']))).detach().numpy() # >>> your solution here <<<\n",
        "plt.scatter(enc[:,0], enc[:,1], c=cancer_dset['target'], alpha=0.7);\n",
        "plt.title('Latent space from the Autoencoder bottle neck, purple dots go for malignant samples. ');\n",
        " ### END Solution"
      ],
      "execution_count": 151,
      "outputs": [
        {
          "output_type": "display_data",
          "data": {
            "image/png": "[encoded data removed]",
            "text/plain": [
              "<Figure size 1008x360 with 1 Axes>"
            ]
          },
          "metadata": {
            "tags": [],
            "needs_background": "light"
          }
        }
      ]
    },
    {
      "cell_type": "markdown",
      "metadata": {
        "id": "ufty_3qKBCwD"
      },
      "source": [
        "### Task 8.  Autoencoder on kMNIST. (2 points)\n",
        "\n",
        "\n",
        "We will build a latent representation for `kMNIST` dataset by using our AE.\n",
        "\n",
        "1. **(1 pt.)**  Train AE to get latent representation of the `kMNIST` dataset from `sklearn.datasets()`. Follow the instructions. Use `MSE` loss and obtain < $0.035$ on validation, with AE \"bottleneck\"  $\\leq 40$; **(sub tasks 8.1 - 8.2)**\n",
        "2.  **(1 pt.)** Plot 10 images and their reconstructions 2d. **(sub tasks 8.3)**"
      ]
    },
    {
      "cell_type": "code",
      "metadata": {
        "id": "mldP_RZZN7bm",
        "colab": {
          "base_uri": "https://localhost:8080/",
          "height": 449,
          "referenced_widgets": [
            "fb99a55bc8044480a28ed3d6d5499f1d",
            "41bdce729562496fb7a124dd11a7e9bb",
            "e1864a4e34744789b404dd310944ad82",
            "57bc2fd9619a4e1d8322b595f8c17676",
            "1f842cca914e4bfcbd3af811b500afe4",
            "0f06130fc05242329a4c890e748c6629",
            "eae24c5b81544b70a4909767567d2f4f",
            "3b1b918734f3481790d17997a5dc3598",
            "ca0bb878c3de4652a8cc72e47d7f67a4",
            "c3aa714076d4458c9b77e9f681b1e577",
            "5fa70b0498544ba0a6711c2c9a6bfb9d",
            "d6b4c102f8b848c4a8908a632228b9fc",
            "19e7717e4c0140888152dd04a63addcc",
            "445d896b5e274eb3b642501e3000503e",
            "de93a562ae77462dbb0a42839e51351a",
            "8fd3968c28c840dda0de99c91ec48649",
            "728474f685ca4487b9ffab6435460b4d",
            "0587dfa2a60c497c92eef74f0f92d2e0",
            "54d1980f7a4b4e31856464b238bbfa4a",
            "06f6e37be61e4f30be414d0682a74b81",
            "e5ac7de89f8a44569816b1b31a576ee8",
            "31cc40fd8fbb48e19080e789365d6ac4",
            "c50b0fbbc60545ca9a053e641834ef19",
            "972f6b44a9594804bc45c2f255d6e622",
            "657ff1d84a324deda21fec6dc48f8b2e",
            "43e6ef7d39394a9ca0226e0781b2f081",
            "4c650eb638fa4a6b96375a1ddfbd1036",
            "92937d81388343a6ac4699bc74283e2e",
            "ebcdc10f6ad147c98178c6616369cd7a",
            "b20f382d46ab4d5187e00cd25d744831",
            "9f2f27824f07461896510bcb6ec58593",
            "04477fa8dde648adaa0023c3a88de157"
          ]
        },
        "outputId": "b31567a1-4f22-4510-b541-04d002feed1e"
      },
      "source": [
        "from torchvision.datasets import KMNIST\n",
        "\n",
        "data_train = KMNIST(train=True, root='./kmnist', download=True)\n",
        "data_test = KMNIST(train=False, root='./kmnist', download=True)"
      ],
      "execution_count": 20,
      "outputs": [
        {
          "output_type": "stream",
          "text": [
            "Downloading http://codh.rois.ac.jp/kmnist/dataset/kmnist/train-images-idx3-ubyte.gz to ./kmnist/KMNIST/raw/train-images-idx3-ubyte.gz\n"
          ],
          "name": "stdout"
        },
        {
          "output_type": "display_data",
          "data": {
            "application/vnd.jupyter.widget-view+json": {
              "model_id": "fb99a55bc8044480a28ed3d6d5499f1d",
              "version_minor": 0,
              "version_major": 2
            },
            "text/plain": [
              "HBox(children=(FloatProgress(value=0.0, max=18165135.0), HTML(value='')))"
            ]
          },
          "metadata": {
            "tags": []
          }
        },
        {
          "output_type": "stream",
          "text": [
            "\n",
            "Extracting ./kmnist/KMNIST/raw/train-images-idx3-ubyte.gz to ./kmnist/KMNIST/raw\n",
            "Downloading http://codh.rois.ac.jp/kmnist/dataset/kmnist/train-labels-idx1-ubyte.gz to ./kmnist/KMNIST/raw/train-labels-idx1-ubyte.gz\n"
          ],
          "name": "stdout"
        },
        {
          "output_type": "display_data",
          "data": {
            "application/vnd.jupyter.widget-view+json": {
              "model_id": "ca0bb878c3de4652a8cc72e47d7f67a4",
              "version_minor": 0,
              "version_major": 2
            },
            "text/plain": [
              "HBox(children=(FloatProgress(value=0.0, max=29497.0), HTML(value='')))"
            ]
          },
          "metadata": {
            "tags": []
          }
        },
        {
          "output_type": "stream",
          "text": [
            "\n",
            "Extracting ./kmnist/KMNIST/raw/train-labels-idx1-ubyte.gz to ./kmnist/KMNIST/raw\n",
            "Downloading http://codh.rois.ac.jp/kmnist/dataset/kmnist/t10k-images-idx3-ubyte.gz to ./kmnist/KMNIST/raw/t10k-images-idx3-ubyte.gz\n"
          ],
          "name": "stdout"
        },
        {
          "output_type": "display_data",
          "data": {
            "application/vnd.jupyter.widget-view+json": {
              "model_id": "728474f685ca4487b9ffab6435460b4d",
              "version_minor": 0,
              "version_major": 2
            },
            "text/plain": [
              "HBox(children=(FloatProgress(value=0.0, max=3041136.0), HTML(value='')))"
            ]
          },
          "metadata": {
            "tags": []
          }
        },
        {
          "output_type": "stream",
          "text": [
            "\n",
            "Extracting ./kmnist/KMNIST/raw/t10k-images-idx3-ubyte.gz to ./kmnist/KMNIST/raw\n",
            "Downloading http://codh.rois.ac.jp/kmnist/dataset/kmnist/t10k-labels-idx1-ubyte.gz to ./kmnist/KMNIST/raw/t10k-labels-idx1-ubyte.gz\n"
          ],
          "name": "stdout"
        },
        {
          "output_type": "display_data",
          "data": {
            "application/vnd.jupyter.widget-view+json": {
              "model_id": "657ff1d84a324deda21fec6dc48f8b2e",
              "version_minor": 0,
              "version_major": 2
            },
            "text/plain": [
              "HBox(children=(FloatProgress(value=0.0, max=5120.0), HTML(value='')))"
            ]
          },
          "metadata": {
            "tags": []
          }
        },
        {
          "output_type": "stream",
          "text": [
            "\n",
            "Extracting ./kmnist/KMNIST/raw/t10k-labels-idx1-ubyte.gz to ./kmnist/KMNIST/raw\n",
            "Processing...\n",
            "Done!\n"
          ],
          "name": "stdout"
        },
        {
          "output_type": "stream",
          "text": [
            "/usr/local/lib/python3.7/dist-packages/torchvision/datasets/mnist.py:479: UserWarning: The given NumPy array is not writeable, and PyTorch does not support non-writeable tensors. This means you can write to the underlying (supposedly non-writeable) NumPy array using the tensor. You may want to copy the array to protect its data or make it writeable before converting it to a tensor. This type of warning will be suppressed for the rest of this program. (Triggered internally at  /pytorch/torch/csrc/utils/tensor_numpy.cpp:143.)\n",
            "  return torch.from_numpy(parsed.astype(m[2], copy=False)).view(*s)\n"
          ],
          "name": "stderr"
        }
      ]
    },
    {
      "cell_type": "markdown",
      "metadata": {
        "id": "KZsmSJ3vuQrd"
      },
      "source": [
        "#### 8.1 Prepare the data and necessary functions."
      ]
    },
    {
      "cell_type": "code",
      "metadata": {
        "id": "KoRlKg3vOZCW"
      },
      "source": [
        "x_train = np.array(data_train.data)\n",
        "y_train = np.array(data_train.targets)\n",
        "\n",
        "x_test = np.array(data_test.data)\n",
        "y_test = np.array(data_test.targets)\n"
      ],
      "execution_count": 21,
      "outputs": []
    },
    {
      "cell_type": "code",
      "metadata": {
        "id": "fM3bsc0wBWTH"
      },
      "source": [
        "# Reshape the data and scale\n",
        "#x_train = # >>> your solution here <<<\n",
        "#x_test = # >>> your solution here <<<\n",
        "\n",
        "x_train = x_train.reshape(-1, 1, 28, 28).astype('float32') / 255\n",
        "x_test = x_test.reshape(-1, 1, 28, 28).astype('float32') / 255"
      ],
      "execution_count": 22,
      "outputs": []
    },
    {
      "cell_type": "code",
      "metadata": {
        "colab": {
          "base_uri": "https://localhost:8080/",
          "height": 116
        },
        "id": "Tz2892txBYJk",
        "outputId": "2a351507-48d6-4dac-cc74-5a20e937796f"
      },
      "source": [
        "fig, ax = plt.subplots(ncols=10, figsize=(20, 5))\n",
        "for i in range(10):\n",
        "    ax[i].imshow(x_train[i].reshape(28,28));\n",
        "    ax[i].axis('off')"
      ],
      "execution_count": 23,
      "outputs": [
        {
          "output_type": "display_data",
          "data": {
            "image/png": "[encoded data removed]",
            "text/plain": [
              "<Figure size 1440x360 with 10 Axes>"
            ]
          },
          "metadata": {
            "tags": [],
            "needs_background": "light"
          }
        }
      ]
    },
    {
      "cell_type": "code",
      "metadata": {
        "id": "b5sHmYVxBeCV"
      },
      "source": [
        "# BEGIN SOLUTION (do not delete this comment!)\n",
        "class kMNISTData(torch_data.Dataset):\n",
        "    def __init__(self, X, y):\n",
        "        super(kMNISTData, self).__init__()\n",
        "        self.X = torch.tensor(X, dtype=torch.float32) #X # >>> your solution here <<<                                                        \n",
        "        self.y = torch.tensor(y, dtype=torch.float32)# y # >>> your solution here <<<\n",
        "    \n",
        "    def __len__(self):\n",
        "        len = self.X.shape[0]\n",
        "        return len # >>> your solution here <<<\n",
        "    \n",
        "    def __getitem__(self, idx):\n",
        "        xidx, yidx = self.X[idx], self.y[idx]\n",
        "        return xidx, yidx # >>> your solution here <<<\n",
        "    \n",
        "# END Solution (do not delete this comment!)"
      ],
      "execution_count": 24,
      "outputs": []
    },
    {
      "cell_type": "code",
      "metadata": {
        "id": "lfla6EKiBgNy"
      },
      "source": [
        "train_kmnist = kMNISTData(x_train, y_train) \n",
        "test_kmnist = kMNISTData(x_test, y_test) "
      ],
      "execution_count": 25,
      "outputs": []
    },
    {
      "cell_type": "markdown",
      "metadata": {
        "id": "J1jIdmh9uI-r"
      },
      "source": [
        "#### 8.2 Create encoder and decoder network for kMNIST. \n",
        "You can either use convolutions or flatten the images and use linear layers. You can choose hidden size (not larger than 40) and any architecture you like. "
      ]
    },
    {
      "cell_type": "code",
      "metadata": {
        "id": "uvECUsVcBkmB"
      },
      "source": [
        "# BEGIN SOLUTION (do not delete this comment!)\n",
        "\n",
        "def train(epochs, net, criterion, optimizer, train_loader, val_loader,scheduler=None, verbose=True, save_dir=None):\n",
        "    \n",
        "    freq = max(epochs//20,1)\n",
        "    net.to(device)\n",
        "    \n",
        "    for epoch in range(1, epochs+1):\n",
        "        net.train()\n",
        "\n",
        "        losses_train = []\n",
        "        for X, _ in train_loader:\n",
        "            \n",
        "            ### BEGIN Solution\n",
        "            X_cuda = X.cuda() # send data to the gpu\n",
        "            X_decoded = net.forward(X_cuda) # forward\n",
        "            loss = criterion(X.cpu() , X_decoded.cpu()) # get loss\n",
        "            optimizer.zero_grad() # zero gradient\n",
        "            loss.backward() # back propagation\n",
        "            losses_train.append(loss.view((-1, 1)).detach()) # append loss\n",
        "            \n",
        "            # Perform one step of minibatch stochastic gradient descent\n",
        "            optimizer.step()\n",
        "\n",
        "            # >>> your solution here <<<\n",
        "\n",
        "        # define NN evaluation, i.e. turn off dropouts, batchnorms, etc.\n",
        "        net.eval()\n",
        "\n",
        "        losses_val = []\n",
        "        for X, _ in val_loader:\n",
        "            \n",
        "            \n",
        "            \n",
        "            # Compute the validation loss\n",
        "\n",
        "            # >>> your solution here <<<\n",
        "            X_cuda = X.cuda() # send data to the gpu\n",
        "            X_decoded = net.forward(X_cuda) # forward on the val data\n",
        "            loss = criterion(X.cpu(), X_decoded.cpu()) # calculate loss on val data\n",
        "            losses_val.append(loss.view((-1, 1)).detach()) # save loss\n",
        "\n",
        "            ### END Solution\n",
        "\n",
        "        if scheduler is not None:\n",
        "            scheduler.step()\n",
        "        \n",
        "        if verbose and epoch%freq==0:\n",
        "            mean_val = sum(losses_val)/len(losses_val)\n",
        "            mean_train = sum(losses_train)/len(losses_train)\n",
        "\n",
        "            print('Epoch {}/{} || Loss:  Train {:.4f} | Validation {:.4f}'\\\n",
        "                  .format(epoch, epochs, mean_train.item(), mean_val.item()))\n",
        "\n",
        "encoder = nn.Sequential(\n",
        "                        # >>> your solution here <<<\n",
        "                        \n",
        "                        nn.Conv2d(1, 50, 3, stride = 2, padding = 1),\n",
        "                        nn.LeakyReLU(), # activation\n",
        "                        nn.Conv2d(50, 25, 3, stride = 2, padding = 1),\n",
        "                        nn.LeakyReLU(), # activation\n",
        "                        # output convolution. Hidden size 40\n",
        "                        nn.Conv2d(25, 40, 7)\n",
        "                        ) \n",
        "\n",
        "decoder =  nn.Sequential(\n",
        "                        # >>> your solution here <<<\n",
        "                        # input convolution. Hidden size 40\n",
        "                        nn.ConvTranspose2d(40, 25, 7),\n",
        "                        nn.LeakyReLU(), # activation\n",
        "                        nn.ConvTranspose2d(25, 50, 3, stride = 2, padding = 1, output_padding = 1),\n",
        "                        nn.LeakyReLU(), # activation\n",
        "                        nn.ConvTranspose2d(50, 1, 3, stride = 2, padding = 1, output_padding = 1),\n",
        "                        nn.Sigmoid() # activation\n",
        "                        ) \n",
        "\n",
        "# END Solution (do not delete this comment!)"
      ],
      "execution_count": 26,
      "outputs": []
    },
    {
      "cell_type": "code",
      "metadata": {
        "id": "Id-iNSswBpe9"
      },
      "source": [
        "# BEGIN SOLUTION (do not delete this comment!)\n",
        "\n",
        "# >>> your solution here <<<\n",
        "device = 'cuda:0' # choose device\n",
        "net = MyFirstAE(encoder, decoder)\n",
        "criterion = nn.MSELoss()\n",
        "optimizer = torch.optim.Adam(net.parameters(), lr = 0.01) # >>> your solution here <<<\n",
        "scheduler = torch.optim.lr_scheduler.StepLR(optimizer, 10, 0.5) # >>> your solution here <<<\n",
        "epochs = 100\n",
        "# send data to  the gpu\n",
        "encoder.to(device)\n",
        "decoder.to(device)\n",
        "\n",
        "train_loader = torch_data.DataLoader(train_kmnist, batch_size=500, shuffle=True) \n",
        "val_loader = torch_data.DataLoader(test_kmnist, batch_size=500, shuffle=False) \n",
        "\n",
        "# END Solution (do not delete this comment!)"
      ],
      "execution_count": 27,
      "outputs": []
    },
    {
      "cell_type": "code",
      "metadata": {
        "colab": {
          "base_uri": "https://localhost:8080/"
        },
        "id": "HJL5yF7FkGDz",
        "outputId": "1b9a13dd-56fe-4684-8aae-584afbf21956"
      },
      "source": [
        "train(epochs, net, criterion, optimizer, train_loader, val_loader, scheduler)"
      ],
      "execution_count": 28,
      "outputs": [
        {
          "output_type": "stream",
          "text": [
            "Epoch 5/100 || Loss:  Train 0.0203 | Validation 0.0245\n",
            "Epoch 10/100 || Loss:  Train 0.0180 | Validation 0.0216\n",
            "Epoch 15/100 || Loss:  Train 0.0168 | Validation 0.0206\n",
            "Epoch 20/100 || Loss:  Train 0.0162 | Validation 0.0201\n",
            "Epoch 25/100 || Loss:  Train 0.0157 | Validation 0.0197\n",
            "Epoch 30/100 || Loss:  Train 0.0155 | Validation 0.0195\n",
            "Epoch 35/100 || Loss:  Train 0.0152 | Validation 0.0193\n",
            "Epoch 40/100 || Loss:  Train 0.0151 | Validation 0.0192\n",
            "Epoch 45/100 || Loss:  Train 0.0150 | Validation 0.0191\n",
            "Epoch 50/100 || Loss:  Train 0.0149 | Validation 0.0191\n",
            "Epoch 55/100 || Loss:  Train 0.0148 | Validation 0.0191\n",
            "Epoch 60/100 || Loss:  Train 0.0148 | Validation 0.0190\n",
            "Epoch 65/100 || Loss:  Train 0.0148 | Validation 0.0190\n",
            "Epoch 70/100 || Loss:  Train 0.0148 | Validation 0.0190\n",
            "Epoch 75/100 || Loss:  Train 0.0147 | Validation 0.0190\n",
            "Epoch 80/100 || Loss:  Train 0.0147 | Validation 0.0190\n",
            "Epoch 85/100 || Loss:  Train 0.0147 | Validation 0.0190\n",
            "Epoch 90/100 || Loss:  Train 0.0147 | Validation 0.0190\n",
            "Epoch 95/100 || Loss:  Train 0.0147 | Validation 0.0190\n",
            "Epoch 100/100 || Loss:  Train 0.0147 | Validation 0.0190\n"
          ],
          "name": "stdout"
        }
      ]
    },
    {
      "cell_type": "markdown",
      "metadata": {
        "id": "cXCR-eKBBuRI"
      },
      "source": [
        "#### 8.3 Plot any 10 images and their reconstructions."
      ]
    },
    {
      "cell_type": "code",
      "metadata": {
        "colab": {
          "base_uri": "https://localhost:8080/",
          "height": 252
        },
        "id": "ggGOxCc4Bvm5",
        "outputId": "08721b5f-ef2a-41d8-bf34-0842e6330314"
      },
      "source": [
        "# BEGIN SOLUTION (do not delete this comment!)\n",
        "\n",
        "fig, ax = plt.subplots(ncols=10, nrows=2, figsize=(20, 5))\n",
        "for i in range(10):\n",
        "    im = train_kmnist[i][0]\n",
        "    rec = net(im.view((1, 1, 28, 28)).to(device)) # >>> your solution here <<<\n",
        "    ax[0, i].imshow(im[0].reshape(28,28));\n",
        "    ax[1, i].imshow(torch.Tensor(rec.reshape(28,28).detach().cpu()))   # >>> your solution here <<<);\n",
        "    ax[0, i].axis('off')\n",
        "    ax[1, i].axis('off')\n",
        "        \n",
        "# END Solution (do not delete this comment!)"
      ],
      "execution_count": 29,
      "outputs": [
        {
          "output_type": "display_data",
          "data": {
            "image/png": "[encoded data removed]",
            "text/plain": [
              "<Figure size 1440x360 with 20 Axes>"
            ]
          },
          "metadata": {
            "tags": [],
            "needs_background": "light"
          }
        }
      ]
    },
    {
      "cell_type": "markdown",
      "metadata": {
        "id": "1seXNwq3KoYM"
      },
      "source": [
        "## Task 9. Convolutional NN (4 points)\n",
        "\n",
        "\n",
        "In this task, you will need to answer two questions and train a convolution neural network for a task of sound classification. \n",
        "\n",
        "- **(1 pt.)** Debug the given convolutional neural network and explain what's wrong with it and how to fix it. You will need to identify at least 4 problems; **(sub-tasks 9.1)**\n",
        "\n",
        "- **(1 pt.)** Compute manually outputs of each layer, often when we build a neural network we need to know the output sizes of a layer before we add the next on; **(sub-tasks 9.2)**\n",
        "\n",
        "- **(2 pt.)** Build your own convolutional NN and train it for the task of sound classification. Your goal is to achieve maximum quality > 70%  1pt and > 90% 2pt. **(sub-tasks 9.3 - 9.6)**"
      ]
    },
    {
      "cell_type": "markdown",
      "metadata": {
        "id": "4fCPSsn3K22j"
      },
      "source": [
        "#### 9.1 Debug this convolutional neural network and write down proposed fixes. Ther are at least four fixes that can be applied. Explain your answers."
      ]
    },
    {
      "cell_type": "code",
      "metadata": {
        "id": "qWRju-lbIBLE"
      },
      "source": [
        "# assuming input shape [batch, 3, 32, 32]\r\n",
        "# cnn = nn.Sequential(\r\n",
        "#     nn.Conv2d(in_channels=1, out_channels=512, kernel_size=(3,3)),\r\n",
        "#     nn.Conv2d(in_channels=512, out_channels=128, kernel_size=(3,3)),\r\n",
        "#     nn.Conv2d(in_channels=128, out_channels=10, kernel_size=(3,3)),\r\n",
        "#     nn.ReLU(),\r\n",
        "#     nn.MaxPool2d((1,1)),\r\n",
        "#     nn.Conv2d(in_channels=10, out_channels=3, kernel_size=(10,10)),\r\n",
        "#     nn.Conv2d(in_channels=3, out_channels=64, kernel_size=(10,10)),\r\n",
        "#     nn.MaxPool2d((15,15)),\r\n",
        "#     nn.Conv2d(in_channels=64, out_channels=128, kernel_size=(10,10)),\r\n",
        "#     nn.Softmax(),\r\n",
        "#     Flatten(),\r\n",
        "#     nn.Linear(64, 256),\r\n",
        "#     nn.Softmax(),\r\n",
        "#     nn.Linear(256, 10),\r\n",
        "#     nn.Sigmoid(),\r\n",
        "#     nn.Dropout(0.5)\r\n",
        "    \r\n",
        "# )"
      ],
      "execution_count": 30,
      "outputs": []
    },
    {
      "cell_type": "code",
      "metadata": {
        "id": "uJkaKOftIYp9"
      },
      "source": [
        "# BEGIN SOLUTION (do not delete this comment!)\r\n",
        "\r\n",
        "# Your answers:\r\n",
        "\r\n",
        "# 1. An amount of input channels in the first Conv2d layer must be equal to 3 since input shape [batch, 3, 32, 32] has 3 channels.\r\n",
        "        # Correct option: nn.Conv2d(in_channels=3, out_channels=512, kernel_size=(3,3))\r\n",
        "# 2. nn.MaxPool2d((1,1)) - there is no point in using maxpooling 1*1 since it is a waste of resources.\r\n",
        "        # Correct option: to delete this line.\r\n",
        "# 3. Size of nn.MaxPool2d((15,15)) is too high since the size of matrix in the previous layer is 8*8 pixels.\r\n",
        "        # After 1st...5th conv2d: 30*30, 28*28, 26*26, 17*17, 8*8 pixels.\r\n",
        "        # Correct option: lower kernel size.\r\n",
        "# 4. Kernel size in nn.Conv2d after nn.MaxPool2d((15,15)) is too high since the size of matrix in the previous layer is lower.\r\n",
        "        # Correct option: lower kernel size (depends on maxpool kernel size)\r\n",
        "# 5. Softmax after convolution and linear layers. Usualluy softmax applies to the output layer. There is no point to use softmax in the middle of the architecture.\r\n",
        "        # Correct option: to delete both softmax() layers.\r\n",
        "# 6. Flatten() without nn.\r\n",
        "        # Correct option: Replace: Flatten() to nn.Flatten().\r\n",
        "# 7. Linear layer input after Flatten has not enough input.\r\n",
        "        # Correct option:  128 * (image size from the previous layer).\r\n",
        "# 8. nn.Dropout(0.5) - can be too high value. Better to use lower value, for instance nn.Dropout(0.1).\r\n",
        "\r\n",
        "# END Solution (do not delete this comment!)"
      ],
      "execution_count": 31,
      "outputs": []
    },
    {
      "cell_type": "markdown",
      "metadata": {
        "id": "uh8BusFMQm-2"
      },
      "source": [
        "#### 9.2 Convolutional warm up, compute manually outpust shapes for each layer."
      ]
    },
    {
      "cell_type": "code",
      "metadata": {
        "id": "iGvJl1LxQoKw"
      },
      "source": [
        "# Compute output shape for each and final layers wihout running the code.\n",
        "# input size x = [8, 1 , 300, 303].\n",
        "\n",
        "# conv1 = Conv2d(in_chаnnels=1, out_channels=16, kernel_size=(5, 5), рadding = 0, stride=2)\n",
        "# conv2 = Conv2d(in_channels=16, out_chаnnels=16, kernel_size=(3, 3), рadding = 2, stride=1)\n",
        "# conv3 = Conv2d(in_channels=16, out_chаnnels=16, kernel_size=(5, 5), рadding =2, stride=2)\n",
        "# maxpool1 = MаxPool2d((2, 2))\n",
        "# cnn = nn.Sequential(conv1, conv2, conv3, maxpool1)\n"
      ],
      "execution_count": 32,
      "outputs": []
    },
    {
      "cell_type": "code",
      "metadata": {
        "id": "2ly8YywpLMKh"
      },
      "source": [
        "# BEGIN SOLUTION (do not delete this comment!)\n",
        "\n",
        "# example:\n",
        "\n",
        "# conv1 \n",
        "# output_h = (300 - 5+0) /2 +1 = 148\n",
        "# output_w = (303 - 5+0) /2 +1 = 150\n",
        "\n",
        "# Continue for all the layers:\n",
        "\n",
        "### BEGIN Souluion\n",
        "\n",
        "# H_out = [(Hin + 2 * pad - (kern_size - 1) - 1 ) / stride + 1]\n",
        "# W_out = [(Win + 2 * pad - (kern_size - 1) - 1 ) / stride + 1]\n",
        "\n",
        "# conv2 \n",
        "# output_h = [(148 + 2 * 2 - (3 - 1) - 1 ) / 1 + 1] = 150\n",
        "# output_w = [(150 + 2 * 2 - (3 - 1) - 1 ) / 1 + 1] = 152\n",
        "\n",
        "# conv3 \n",
        "# output_h = [(150 + 2 * 2 - (5 - 1) - 1) / 2 + 1] = 75\n",
        "# output_w = [(152 + 2 * 2 - (5 - 1) - 1) / 2 + 1] = 76\n",
        "\n",
        "# maxpool1 = MaxPool2d((2, 2))\n",
        "# output_h = [75 / 2] = 37.5 -> round -> = 37\n",
        "# output_w = [76 / 2] = 38\n",
        "\n",
        "# final layer output = [8, 16, 37, 38]\n",
        "\n",
        "# END Solution (do not delete this comment!)"
      ],
      "execution_count": 33,
      "outputs": []
    },
    {
      "cell_type": "markdown",
      "metadata": {
        "id": "1D1z6WEjfZwT"
      },
      "source": [
        "#### 9.3 Convolutional networks for sound classication\n",
        "\n",
        "- Now your task is to classify sounds using the convolutional network. You can use different network architectures. And your goal is to get the highest score possible.\n",
        "\n",
        "- First of all, we will preprocess audio into spectrograms, that you will be able to treat them as images."
      ]
    },
    {
      "cell_type": "code",
      "metadata": {
        "colab": {
          "base_uri": "https://localhost:8080/"
        },
        "id": "t7BsAPwYfv6X",
        "outputId": "a1eb3dd5-e0b2-452f-d2d7-2f70e643ec46"
      },
      "source": [
        "# imports\n",
        "\n",
        "import os\n",
        "import torch\n",
        "import numpy as np\n",
        "import torch.nn as nn\n",
        "from torch import Tensor\n",
        "\n",
        "!pip install torchaudio\n",
        "import torchaudio\n",
        "from torchaudio import transforms\n",
        "from IPython.display import Audio\n",
        "import torch.nn.functional as F\n",
        "from torch.utils.data import DataLoader,random_split,Dataset\n",
        "\n",
        "import matplotlib.pyplot as plt\n",
        "from sklearn.metrics import confusion_matrix, accuracy_score"
      ],
      "execution_count": 34,
      "outputs": [
        {
          "output_type": "stream",
          "text": [
            "Collecting torchaudio\n",
            "\u001b[?25l  Downloading https://files.pythonhosted.org/packages/18/9a/4e2e6dbde627ffb8a6d1d4ebc4683edecad1c08099969f1d7760d92175ff/torchaudio-0.8.0-cp37-cp37m-manylinux1_x86_64.whl (1.9MB)\n",
            "\u001b[K     |████████████████████████████████| 1.9MB 6.9MB/s \n",
            "\u001b[?25hRequirement already satisfied: torch==1.8.0 in /usr/local/lib/python3.7/dist-packages (from torchaudio) (1.8.0+cu101)\n",
            "Requirement already satisfied: numpy in /usr/local/lib/python3.7/dist-packages (from torch==1.8.0->torchaudio) (1.19.5)\n",
            "Requirement already satisfied: typing-extensions in /usr/local/lib/python3.7/dist-packages (from torch==1.8.0->torchaudio) (3.7.4.3)\n",
            "Installing collected packages: torchaudio\n",
            "Successfully installed torchaudio-0.8.0\n"
          ],
          "name": "stdout"
        }
      ]
    },
    {
      "cell_type": "code",
      "metadata": {
        "id": "lRCcakoVgFDK",
        "colab": {
          "base_uri": "https://localhost:8080/",
          "height": 67,
          "referenced_widgets": [
            "348e7aab8be8437a8f02e236fe386bb7",
            "0e285236517541b1813acb29d4e018fe",
            "ab6a4f505864403ebaf15448a8c5a68f",
            "77ce8fce569743ea95b5b6c30ea70478",
            "495949ca97614c1c83a4973ec99e4c14",
            "8c4693e1690a48e79d3d6ae9ee9d503a",
            "85d54a2de986459394874ca489605405",
            "58930013cf44407eac1477031768585a"
          ]
        },
        "outputId": "be27ce3d-8ee2-4d38-f241-75c618d63cc2"
      },
      "source": [
        "# Get the dataset\n",
        "\n",
        "dataset = torchaudio.datasets.SPEECHCOMMANDS('./' , url = 'speech_commands_v0.02', \n",
        "                                       folder_in_archive= 'SpeechCommands', download = True)"
      ],
      "execution_count": 35,
      "outputs": [
        {
          "output_type": "display_data",
          "data": {
            "application/vnd.jupyter.widget-view+json": {
              "model_id": "348e7aab8be8437a8f02e236fe386bb7",
              "version_minor": 0,
              "version_major": 2
            },
            "text/plain": [
              "HBox(children=(FloatProgress(value=0.0, max=2428923189.0), HTML(value='')))"
            ]
          },
          "metadata": {
            "tags": []
          }
        },
        {
          "output_type": "stream",
          "text": [
            "\n"
          ],
          "name": "stdout"
        }
      ]
    },
    {
      "cell_type": "markdown",
      "metadata": {
        "id": "kUE5grAGj9SN"
      },
      "source": [
        "### Let's look at the dataset."
      ]
    },
    {
      "cell_type": "code",
      "metadata": {
        "colab": {
          "base_uri": "https://localhost:8080/",
          "height": 283
        },
        "id": "85jqMauLhNER",
        "outputId": "13ef01b7-4932-42da-cb67-7eb7a4062c2d"
      },
      "source": [
        "plt.figure()\n",
        "plt.plot(dataset[0][0].t())"
      ],
      "execution_count": 36,
      "outputs": [
        {
          "output_type": "execute_result",
          "data": {
            "text/plain": [
              "[<matplotlib.lines.Line2D at 0x7fe331845f10>]"
            ]
          },
          "metadata": {
            "tags": []
          },
          "execution_count": 36
        },
        {
          "output_type": "display_data",
          "data": {
            "image/png": "[encoded data removed]",
            "text/plain": [
              "<Figure size 432x288 with 1 Axes>"
            ]
          },
          "metadata": {
            "tags": [],
            "needs_background": "light"
          }
        }
      ]
    },
    {
      "cell_type": "code",
      "metadata": {
        "colab": {
          "base_uri": "https://localhost:8080/",
          "height": 93
        },
        "id": "CYGRUGnghIYY",
        "outputId": "90031404-a336-4dc5-addf-2e843c084fae"
      },
      "source": [
        "print('Label: ',dataset[11763][2])\n",
        "Audio(np.array(dataset[11763][0].t()).reshape(-1), rate=16000)"
      ],
      "execution_count": 37,
      "outputs": [
        {
          "output_type": "stream",
          "text": [
            "Label:  down\n"
          ],
          "name": "stdout"
        },
        {
          "output_type": "execute_result",
          "data": {
            "text/html": [
              "\n",
              "                <audio controls=\"controls\" >\n",
              "                    <source src=\"data:audio/wav;base64,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\" type=\"audio/wav\" />\n",
              "                    Your browser does not support the audio element.\n",
              "                </audio>\n",
              "              "
            ],
            "text/plain": [
              "<IPython.lib.display.Audio object>"
            ]
          },
          "metadata": {
            "tags": []
          },
          "execution_count": 37
        }
      ]
    },
    {
      "cell_type": "markdown",
      "metadata": {
        "id": "tMBl98nnkRcr"
      },
      "source": [
        "#### Actually, we could use really long sequences to classify our samples but it's better to work with them as spectrograms so we can use convolutional layers."
      ]
    },
    {
      "cell_type": "code",
      "metadata": {
        "colab": {
          "base_uri": "https://localhost:8080/",
          "height": 342
        },
        "id": "ZysQUugGkWPB",
        "outputId": "4e964c54-8a8a-4282-cdc2-bd16abf68ea5"
      },
      "source": [
        "specgram = torchaudio.transforms.Spectrogram(n_fft=200, normalized=True)(dataset[22][0])\n",
        "\n",
        "print(\"Shape of spectrogram: {}\".format(specgram.size()))\n",
        "\n",
        "plt.figure(figsize=(10,5))\n",
        "plt.imshow(specgram[0,:,:].numpy());\n",
        "plt.colorbar()\n",
        "plt.show()\n"
      ],
      "execution_count": 38,
      "outputs": [
        {
          "output_type": "stream",
          "text": [
            "Shape of spectrogram: torch.Size([1, 101, 161])\n"
          ],
          "name": "stdout"
        },
        {
          "output_type": "display_data",
          "data": {
            "image/png": "[encoded data removed]",
            "text/plain": [
              "<Figure size 720x360 with 2 Axes>"
            ]
          },
          "metadata": {
            "tags": [],
            "needs_background": "light"
          }
        }
      ]
    },
    {
      "cell_type": "code",
      "metadata": {
        "id": "yylTFJjPo57s"
      },
      "source": [
        "# Some preprocessing routine\n",
        "# Filter samples only with 16000 sampling rate\n",
        "# Make labels dictionary\n",
        "\n",
        "count = 0\n",
        "wave = []\n",
        "labels = []\n",
        "labels_dict = {}\n",
        "\n",
        "for i in range(0,105829):\n",
        "    if dataset[i][0].shape == (1,16000):\n",
        "        wave.append(dataset[i][0])\n",
        "        labels.append(dataset[i][2])"
      ],
      "execution_count": 39,
      "outputs": []
    },
    {
      "cell_type": "code",
      "metadata": {
        "id": "YD4Ds2BhqX4T",
        "colab": {
          "base_uri": "https://localhost:8080/"
        },
        "outputId": "2ab4d139-293a-4821-8720-13f5e820c9c9"
      },
      "source": [
        "set_labels = list(set(labels))\n",
        "labels_dict = {set_labels[i] :i for i in range(len(set_labels))}\n",
        "labels_dict"
      ],
      "execution_count": 40,
      "outputs": [
        {
          "output_type": "execute_result",
          "data": {
            "text/plain": [
              "{'backward': 34,\n",
              " 'bed': 3,\n",
              " 'bird': 9,\n",
              " 'cat': 2,\n",
              " 'dog': 22,\n",
              " 'down': 29,\n",
              " 'eight': 4,\n",
              " 'five': 17,\n",
              " 'follow': 30,\n",
              " 'forward': 26,\n",
              " 'four': 21,\n",
              " 'go': 12,\n",
              " 'happy': 31,\n",
              " 'house': 5,\n",
              " 'learn': 6,\n",
              " 'left': 33,\n",
              " 'marvin': 7,\n",
              " 'nine': 15,\n",
              " 'no': 32,\n",
              " 'off': 13,\n",
              " 'on': 25,\n",
              " 'one': 10,\n",
              " 'right': 11,\n",
              " 'seven': 20,\n",
              " 'sheila': 19,\n",
              " 'six': 14,\n",
              " 'stop': 24,\n",
              " 'three': 27,\n",
              " 'tree': 28,\n",
              " 'two': 0,\n",
              " 'up': 8,\n",
              " 'visual': 1,\n",
              " 'wow': 16,\n",
              " 'yes': 23,\n",
              " 'zero': 18}"
            ]
          },
          "metadata": {
            "tags": []
          },
          "execution_count": 40
        }
      ]
    },
    {
      "cell_type": "markdown",
      "metadata": {
        "id": "W5tkVQDTnMvD"
      },
      "source": [
        "#### 9.4 Your task right now is to implement a speech dataloader it will be almost the same as in the previous tasks."
      ]
    },
    {
      "cell_type": "code",
      "metadata": {
        "id": "kuGvJ4EDm90d"
      },
      "source": [
        "transformation = torchaudio.transforms.Spectrogram(n_fft=200, normalized=True)\n",
        "\n",
        "### BEGIN Solution\n",
        "\n",
        "class SpeechDataLoader(Dataset):\n",
        "    \n",
        "    def __init__(self, data, labels, label_dict, transform=None):\n",
        "        self.data = data\n",
        "        self.labels = labels\n",
        "        self.label_dict = label_dict\n",
        "        self.transform = transform\n",
        "            \n",
        "    def __len__(self):\n",
        "        return len(self.data) # >> Your code is here << #    \n",
        "    \n",
        "    def __getitem__(self,idx):\n",
        "        waveform = self.data[idx] # >> Your code is here << #\n",
        "        specgram = self.transform(waveform) # >> Your code is here << # \n",
        "\n",
        "        if self.labels[idx] in self.label_dict:\n",
        "            label = self.label_dict[self.labels[idx]]\n",
        "\n",
        "        return specgram, label\n",
        "    \n",
        "# END Solution (do not delete this comment!)"
      ],
      "execution_count": 73,
      "outputs": []
    },
    {
      "cell_type": "code",
      "metadata": {
        "id": "OarKlZWooQbS"
      },
      "source": [
        "torch.manual_seed(0)\n",
        "\n",
        "dataset= SpeechDataLoader(wave, labels, labels_dict, transformation)\n",
        "\n",
        "traindata, testdata = random_split(dataset, [round(len(dataset)*.8), round(len(dataset)*.2)], )\n",
        "\n",
        "train_loader = DataLoader(traindata, batch_size=100, shuffle=True)\n",
        "\n",
        "val_loader = DataLoader(testdata, batch_size=100, shuffle=True)"
      ],
      "execution_count": 74,
      "outputs": []
    },
    {
      "cell_type": "markdown",
      "metadata": {
        "id": "gQxaAGoBuLRR"
      },
      "source": [
        "#### 9.5 Your task is to build a convolutional neural network that  yields a high score."
      ]
    },
    {
      "cell_type": "code",
      "metadata": {
        "id": "prYDm0UVwQip"
      },
      "source": [
        "# BEGIN Solution  (do not delete this comment!)\r\n",
        "\r\n",
        "class NN2D(nn.Module):\r\n",
        "    def __init__(self, num_class):\r\n",
        "        super(NN2D,self).__init__()\r\n",
        "        \r\n",
        "        self.conv1 = nn.Conv2d(in_channels = 1,out_channels = 16,kernel_size = 3,stride = 1)\r\n",
        "        # self.bn1 = nn.BatchNorm2d(16)\r\n",
        "        self.dropout1 = nn.Dropout(0.25) \r\n",
        "    \r\n",
        "        self.conv2 = nn.Conv2d(in_channels = 16,out_channels = 32,kernel_size = 3,stride = 1)\r\n",
        "        # self.bn2 = nn.BatchNorm2d(32)\r\n",
        "        self.dropout2 = nn.Dropout(0.25)\r\n",
        "        \r\n",
        "        self.fc1 = nn.Linear(5440, 2720)\r\n",
        "        self.dropout3 = nn.Dropout(0.3)\r\n",
        "        # self.bn3 = nn.BatchNorm2d(2720)\r\n",
        "\r\n",
        "        self.fc2 = nn.Linear(2720,1360)\r\n",
        "        self.dropout4 = nn.Dropout(0.25)\r\n",
        "        # self.bn4 = nn.BatchNorm2d(1360)\r\n",
        "\r\n",
        "        self.fc3 = nn.Linear(1360,720)\r\n",
        "        self.dropout5 = nn.Dropout(0.2)\r\n",
        "        # self.bn5 = nn.BatchNorm2d(720)\r\n",
        "\r\n",
        "        self.fc4 = nn.Linear(720, num_class)\r\n",
        "    \r\n",
        "    def forward(self, x):\r\n",
        "\r\n",
        "        out = self.conv1(x)\r\n",
        "        # out = self.bn1(out)\r\n",
        "        out = F.relu(out)\r\n",
        "        out = F.max_pool2d(out,kernel_size = 3)\r\n",
        "        out = self.dropout1(out)\r\n",
        "\r\n",
        "        out = self.conv2(out)\r\n",
        "        out = F.relu(out)\r\n",
        "        # out = self.bn2(out)\r\n",
        "        out = F.max_pool2d(out,kernel_size = 3)\r\n",
        "        out = self.dropout2(out)\r\n",
        "\r\n",
        "        out = out.reshape(-1, out.shape[1] * out.shape[2] * out.shape[3])\r\n",
        "        out = self.fc1(out)\r\n",
        "        out = F.relu(out)\r\n",
        "        out = self.dropout3(out)\r\n",
        "        # out = self.bn3(out)\r\n",
        "        \r\n",
        "        out = self.fc2(out)\r\n",
        "        out = F.relu(out)\r\n",
        "        out = self.dropout4(out)\r\n",
        "        # out = self.bn4(out)\r\n",
        "\r\n",
        "        out = self.fc3(out)\r\n",
        "        out = F.relu(out)\r\n",
        "        out = self.dropout5(out)\r\n",
        "        # out = self.bn5(out)\r\n",
        "\r\n",
        "        out = self.fc4(out)\r\n",
        "\r\n",
        "        return out \r\n",
        "    \r\n",
        "# END Solution (do not delete this comment!)"
      ],
      "execution_count": 80,
      "outputs": []
    },
    {
      "cell_type": "code",
      "metadata": {
        "id": "B7rkRR67wQnf"
      },
      "source": [
        "# BEGIN Solution  (do not delete this comment!)\r\n",
        "\r\n",
        "net = NN2D(num_class = 35) # >> Your code is here << #    \r\n",
        "\r\n",
        "criterion = nn.CrossEntropyLoss() # >> Your code is here << #    \r\n",
        "optimizer = torch.optim.Adam(net.parameters(), lr = 0.0025) # >> Your code is here << #   \r\n",
        "num_epochs = 100\r\n",
        "scheduler = torch.optim.lr_scheduler.OneCycleLR(optimizer, max_lr = 0.01, epochs = num_epochs, anneal_strategy='cos', steps_per_epoch=int(len(train_loader))) # >> Your code is here << #    \r\n",
        "\r\n",
        "# END Solution (do not delete this comment!)"
      ],
      "execution_count": 81,
      "outputs": []
    },
    {
      "cell_type": "markdown",
      "metadata": {
        "id": "NpgUGDXJvIhk"
      },
      "source": [
        "#### 9.6 Almost there, now, we need to rewrite our training loop a little bit."
      ]
    },
    {
      "cell_type": "code",
      "metadata": {
        "id": "gQFbIICkwZN3"
      },
      "source": [
        "def train(epochs, net, criterion, optimizer, train_loader, val_loader,scheduler=None, verbose=True, device='cpu'):\r\n",
        "    net.to(device)\r\n",
        "    freq = max(epochs//15,1)\r\n",
        " \r\n",
        "    for epoch in range(1, epochs+1):\r\n",
        "        net.train()\r\n",
        "\r\n",
        "        losses_train = []\r\n",
        "        for X, target in train_loader:\r\n",
        "\r\n",
        "            X, target = X.to(device), target.to(device)\r\n",
        "            \r\n",
        "            ### BEGIN Solution  (do not delete this comment!)\r\n",
        "            \r\n",
        "            # Perform one step of minibatch stochastic gradient descent\r\n",
        "            \r\n",
        "            # >>> your solution here <<<\r\n",
        "\r\n",
        "            optimizer.zero_grad()\r\n",
        "            outputs = net.forward(X)\r\n",
        "            loss = criterion(outputs,target)\r\n",
        "            loss.backward()\r\n",
        "            optimizer.step()\r\n",
        "            losses_train.append(loss.view((-1, 1)).detach())\r\n",
        "\r\n",
        "            # END Solution (do not delete this comment!)\r\n",
        "            \r\n",
        "        if scheduler is not None:\r\n",
        "            scheduler.step()\r\n",
        "        \r\n",
        "        if verbose and epoch%freq==0:\r\n",
        "            y_pred_val =  []\r\n",
        "            y_true_val = []\r\n",
        "            losses_val = []\r\n",
        "            net.eval()\r\n",
        "            for X, target in val_loader:\r\n",
        "                X, target = X.to(device), target.to(device)\r\n",
        "                # losses_val = []\r\n",
        "                \r\n",
        "                # BEGIN Solution  (do not delete this comment!)\r\n",
        "                target_hat_val = net.forward(X)\r\n",
        "                loss = criterion(target_hat_val, target)  \r\n",
        "                losses_val.append(loss.view((-1, 1)).detach())\r\n",
        "                # Compute the validation loss\r\n",
        "                # >>> your solution here <<<\r\n",
        "                \r\n",
        "                \r\n",
        "                # END Solution (do not delete this comment!)\r\n",
        "                \r\n",
        "                y_pred_val.extend(target_hat_val.argmax(1).tolist())\r\n",
        "                y_true_val.extend(target.tolist())\r\n",
        "\r\n",
        "            mean_val = sum(losses_val)/len(losses_val)\r\n",
        "            mean_train = sum(losses_train)/len(losses_train)\r\n",
        "\r\n",
        "            print('Val epoch {}'.format(epoch), \\\r\n",
        "              ', Loss : {:.3}'.format(mean_train.item()), \\\r\n",
        "              ', Accuracy on test: {:.3}'.format(accuracy_score(y_true_val, y_pred_val)) )"
      ],
      "execution_count": 82,
      "outputs": []
    },
    {
      "cell_type": "code",
      "metadata": {
        "colab": {
          "base_uri": "https://localhost:8080/"
        },
        "id": "tA_nZkLiwZTO",
        "outputId": "7486e5a6-16fd-4914-8773-ca7af14754b7"
      },
      "source": [
        "train(num_epochs, net, criterion, optimizer, train_loader, val_loader, scheduler, device='cuda:0')"
      ],
      "execution_count": 83,
      "outputs": [
        {
          "output_type": "stream",
          "text": [
            "Val epoch 6 , Loss : 1.19 , Accuracy on test: 0.692\n",
            "Val epoch 12 , Loss : 0.702 , Accuracy on test: 0.793\n",
            "Val epoch 18 , Loss : 0.499 , Accuracy on test: 0.828\n",
            "Val epoch 24 , Loss : 0.374 , Accuracy on test: 0.833\n",
            "Val epoch 30 , Loss : 0.299 , Accuracy on test: 0.848\n",
            "Val epoch 36 , Loss : 0.245 , Accuracy on test: 0.848\n",
            "Val epoch 42 , Loss : 0.209 , Accuracy on test: 0.85\n",
            "Val epoch 48 , Loss : 0.175 , Accuracy on test: 0.853\n",
            "Val epoch 54 , Loss : 0.157 , Accuracy on test: 0.856\n",
            "Val epoch 60 , Loss : 0.14 , Accuracy on test: 0.856\n",
            "Val epoch 66 , Loss : 0.126 , Accuracy on test: 0.856\n",
            "Val epoch 72 , Loss : 0.119 , Accuracy on test: 0.858\n",
            "Val epoch 78 , Loss : 0.109 , Accuracy on test: 0.856\n",
            "Val epoch 84 , Loss : 0.102 , Accuracy on test: 0.862\n",
            "Val epoch 90 , Loss : 0.0955 , Accuracy on test: 0.86\n",
            "Val epoch 96 , Loss : 0.093 , Accuracy on test: 0.858\n"
          ],
          "name": "stdout"
        }
      ]
    },
    {
      "cell_type": "code",
      "metadata": {
        "id": "WQDGDprraUA_"
      },
      "source": [
        "Starting epoch 4 , Loss : 1.82 , Accuracy on test: 0.513\n",
        "Starting epoch 8 , Loss : 1.5 , Accuracy on test: 0.584\n",
        "Starting epoch 12 , Loss : 1.32 , Accuracy on test: 0.636\n",
        "Starting epoch 16 , Loss : 1.21 , Accuracy on test: 0.675\n",
        "Starting epoch 20 , Loss : 1.15 , Accuracy on test: 0.688\n",
        "Starting epoch 24 , Loss : 1.02 , Accuracy on test: 0.714"
      ],
      "execution_count": null,
      "outputs": []
    }
  ]
}